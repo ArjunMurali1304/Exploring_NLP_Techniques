{
 "cells": [
  {
   "cell_type": "markdown",
   "metadata": {},
   "source": [
    "# Topic modeling"
   ]
  },
  {
   "cell_type": "markdown",
   "metadata": {},
   "source": [
    "##  Extracting key topics of discussion from the topics, displaying top 5 distinct topics, and showing which articles are related to which article."
   ]
  },
  {
   "cell_type": "markdown",
   "metadata": {},
   "source": [
    "### Prerequisites – Download nltk stopwords and spacy model"
   ]
  },
  {
   "cell_type": "code",
   "execution_count": 4,
   "metadata": {},
   "outputs": [
    {
     "name": "stderr",
     "output_type": "stream",
     "text": [
      "[nltk_data] Downloading package stopwords to\n",
      "[nltk_data]     C:\\Users\\arjun\\AppData\\Roaming\\nltk_data...\n",
      "[nltk_data]   Package stopwords is already up-to-date!\n"
     ]
    },
    {
     "data": {
      "text/plain": [
       "True"
      ]
     },
     "execution_count": 4,
     "metadata": {},
     "output_type": "execute_result"
    }
   ],
   "source": [
    "import nltk; nltk.download('stopwords')"
   ]
  },
  {
   "cell_type": "markdown",
   "metadata": {},
   "source": [
    "### Import packages"
   ]
  },
  {
   "cell_type": "code",
   "execution_count": 3,
   "metadata": {},
   "outputs": [
    {
     "name": "stdout",
     "output_type": "stream",
     "text": [
      "Collecting gensimNote: you may need to restart the kernel to use updated packages.\n",
      "  Downloading gensim-4.0.1-cp38-cp38-win_amd64.whl (23.9 MB)\n",
      "Requirement already satisfied, skipping upgrade: smart-open>=1.8.1 in c:\\users\\arjun\\anaconda3\\lib\\site-packages (from gensim) (3.0.0)\n",
      "Requirement already satisfied, skipping upgrade: Cython==0.29.21 in c:\\users\\arjun\\anaconda3\\lib\\site-packages (from gensim) (0.29.21)\n",
      "Requirement already satisfied, skipping upgrade: scipy>=0.18.1 in c:\\users\\arjun\\anaconda3\\lib\\site-packages (from gensim) (1.5.2)\n",
      "Requirement already satisfied, skipping upgrade: numpy>=1.11.3 in c:\\users\\arjun\\anaconda3\\lib\\site-packages (from gensim) (1.19.2)\n",
      "Requirement already satisfied, skipping upgrade: requests in c:\\users\\arjun\\anaconda3\\lib\\site-packages (from smart-open>=1.8.1->gensim) (2.24.0)\n",
      "Requirement already satisfied, skipping upgrade: urllib3!=1.25.0,!=1.25.1,<1.26,>=1.21.1 in c:\\users\\arjun\\anaconda3\\lib\\site-packages (from requests->smart-open>=1.8.1->gensim) (1.25.11)\n",
      "\n",
      "Requirement already satisfied, skipping upgrade: certifi>=2017.4.17 in c:\\users\\arjun\\anaconda3\\lib\\site-packages (from requests->smart-open>=1.8.1->gensim) (2020.6.20)\n",
      "Requirement already satisfied, skipping upgrade: chardet<4,>=3.0.2 in c:\\users\\arjun\\anaconda3\\lib\\site-packages (from requests->smart-open>=1.8.1->gensim) (3.0.4)\n",
      "Requirement already satisfied, skipping upgrade: idna<3,>=2.5 in c:\\users\\arjun\\anaconda3\\lib\\site-packages (from requests->smart-open>=1.8.1->gensim) (2.10)\n",
      "Installing collected packages: gensim\n",
      "Successfully installed gensim-4.0.1\n"
     ]
    }
   ],
   "source": [
    "pip install -U gensim"
   ]
  },
  {
   "cell_type": "code",
   "execution_count": 2,
   "metadata": {},
   "outputs": [
    {
     "name": "stdout",
     "output_type": "stream",
     "text": [
      "Processing c:\\users\\arjun\\appdata\\local\\pip\\cache\\wheels\\90\\61\\ec\\9dbe9efc3acf9c4e37ba70fbbcc3f3a0ebd121060aa593181a\\pyldavis-3.3.1-py2.py3-none-any.whl\n",
      "Requirement already satisfied, skipping upgrade: future in c:\\users\\arjun\\anaconda3\\lib\\site-packages (from pyLDAvis) (0.18.2)\n",
      "Requirement already satisfied, skipping upgrade: jinja2 in c:\\users\\arjun\\anaconda3\\lib\\site-packages (from pyLDAvis) (2.11.2)\n",
      "Requirement already satisfied, skipping upgrade: joblib in c:\\users\\arjun\\anaconda3\\lib\\site-packages (from pyLDAvis) (0.17.0)\n",
      "Requirement already satisfied, skipping upgrade: scipy in c:\\users\\arjun\\anaconda3\\lib\\site-packages (from pyLDAvis) (1.5.2)\n",
      "Requirement already satisfied, skipping upgrade: setuptools in c:\\users\\arjun\\anaconda3\\lib\\site-packages (from pyLDAvis) (50.3.1.post20201107)\n",
      "Collecting pandas>=1.2.0\n",
      "  Using cached pandas-1.2.4-cp38-cp38-win_amd64.whl (9.3 MB)\n",
      "Requirement already satisfied, skipping upgrade: scikit-learn in c:\\users\\arjun\\anaconda3\\lib\\site-packages (from pyLDAvis) (0.24.2)\n",
      "Requirement already satisfied, skipping upgrade: gensim in c:\\users\\arjun\\anaconda3\\lib\\site-packages (from pyLDAvis) (4.0.1)\n",
      "Collecting funcy\n",
      "  Using cached funcy-1.16-py2.py3-none-any.whl (32 kB)\n",
      "Processing c:\\users\\arjun\\appdata\\local\\pip\\cache\\wheels\\22\\0b\\40\\fd3f795caaa1fb4c6cb738bc1f56100be1e57da95849bfc897\\sklearn-0.0-py2.py3-none-any.whl\n",
      "Requirement already satisfied, skipping upgrade: numexpr in c:\\users\\arjun\\anaconda3\\lib\\site-packages (from pyLDAvis) (2.7.1)\n",
      "Requirement already satisfied, skipping upgrade: numpy>=1.20.0 in c:\\users\\arjun\\anaconda3\\lib\\site-packages (from pyLDAvis) (1.20.3)\n",
      "Requirement already satisfied, skipping upgrade: MarkupSafe>=0.23 in c:\\users\\arjun\\anaconda3\\lib\\site-packages (from jinja2->pyLDAvis) (1.1.1)\n",
      "Requirement already satisfied, skipping upgrade: python-dateutil>=2.7.3 in c:\\users\\arjun\\anaconda3\\lib\\site-packages (from pandas>=1.2.0->pyLDAvis) (2.8.1)\n",
      "Requirement already satisfied, skipping upgrade: pytz>=2017.3 in c:\\users\\arjun\\anaconda3\\lib\\site-packages (from pandas>=1.2.0->pyLDAvis) (2020.1)\n",
      "Requirement already satisfied, skipping upgrade: threadpoolctl>=2.0.0 in c:\\users\\arjun\\anaconda3\\lib\\site-packages (from scikit-learn->pyLDAvis) (2.1.0)\n"
     ]
    },
    {
     "name": "stderr",
     "output_type": "stream",
     "text": [
      "ERROR: Could not install packages due to an EnvironmentError: [WinError 5] Access is denied: 'C:\\\\Users\\\\arjun\\\\anaconda3\\\\Lib\\\\site-packages\\\\~andas\\\\_libs\\\\algos.cp38-win_amd64.pyd'\n",
      "Consider using the `--user` option or check the permissions.\n",
      "\n"
     ]
    },
    {
     "name": "stdout",
     "output_type": "stream",
     "text": [
      "Requirement already satisfied, skipping upgrade: smart-open>=1.8.1 in c:\\users\\arjun\\anaconda3\\lib\\site-packages (from gensim->pyLDAvis) (3.0.0)\n",
      "Requirement already satisfied, skipping upgrade: Cython==0.29.21 in c:\\users\\arjun\\anaconda3\\lib\\site-packages (from gensim->pyLDAvis) (0.29.21)\n",
      "Requirement already satisfied, skipping upgrade: six>=1.5 in c:\\users\\arjun\\anaconda3\\lib\\site-packages (from python-dateutil>=2.7.3->pandas>=1.2.0->pyLDAvis) (1.15.0)\n",
      "Requirement already satisfied, skipping upgrade: requests in c:\\users\\arjun\\anaconda3\\lib\\site-packages (from smart-open>=1.8.1->gensim->pyLDAvis) (2.24.0)\n",
      "Requirement already satisfied, skipping upgrade: idna<3,>=2.5 in c:\\users\\arjun\\anaconda3\\lib\\site-packages (from requests->smart-open>=1.8.1->gensim->pyLDAvis) (2.10)\n",
      "Requirement already satisfied, skipping upgrade: certifi>=2017.4.17 in c:\\users\\arjun\\anaconda3\\lib\\site-packages (from requests->smart-open>=1.8.1->gensim->pyLDAvis) (2020.6.20)\n",
      "Requirement already satisfied, skipping upgrade: urllib3!=1.25.0,!=1.25.1,<1.26,>=1.21.1 in c:\\users\\arjun\\anaconda3\\lib\\site-packages (from requests->smart-open>=1.8.1->gensim->pyLDAvis) (1.25.11)\n",
      "Requirement already satisfied, skipping upgrade: chardet<4,>=3.0.2 in c:\\users\\arjun\\anaconda3\\lib\\site-packages (from requests->smart-open>=1.8.1->gensim->pyLDAvis) (3.0.4)\n",
      "Installing collected packages: pandas, funcy, sklearn, pyLDAvis\n",
      "  Attempting uninstall: pandas\n",
      "    Found existing installation: pandas 1.1.3\n",
      "    Uninstalling pandas-1.1.3:\n",
      "      Successfully uninstalled pandas-1.1.3\n"
     ]
    }
   ],
   "source": [
    "!python -m pip install -U pyLDAvis"
   ]
  },
  {
   "cell_type": "code",
   "execution_count": 21,
   "metadata": {},
   "outputs": [],
   "source": [
    "import re\n",
    "import numpy as np\n",
    "import pandas as pd\n",
    "from pprint import pprint\n",
    "\n",
    "# Gensim\n",
    "import gensim\n",
    "import gensim.corpora as corpora\n",
    "from gensim.utils import simple_preprocess\n",
    "from gensim.models import CoherenceModel\n",
    "\n",
    "# spacy for lemmatization\n",
    "import spacy\n",
    "\n",
    "# Plotting tools\n",
    "import pyLDAvis\n",
    "import pyLDAvis.gensim_models  # don't skip this\n",
    "import matplotlib.pyplot as plt\n",
    "%matplotlib inline\n",
    "\n",
    "# Enable logging for gensim - optional\n",
    "import logging\n",
    "logging.basicConfig(format='%(asctime)s : %(levelname)s : %(message)s', level=logging.ERROR)\n",
    "\n",
    "import warnings\n",
    "warnings.filterwarnings(\"ignore\",category=DeprecationWarning)"
   ]
  },
  {
   "cell_type": "markdown",
   "metadata": {},
   "source": [
    "### Prepare stop words"
   ]
  },
  {
   "cell_type": "code",
   "execution_count": 5,
   "metadata": {},
   "outputs": [],
   "source": [
    "# NLTK Stop words\n",
    "from nltk.corpus import stopwords\n",
    "stop_words = stopwords.words('english')\n",
    "stop_words.extend(['from', 'subject', 're', 'edu', 'use'])"
   ]
  },
  {
   "cell_type": "markdown",
   "metadata": {},
   "source": [
    "### Import Newsgroups Data"
   ]
  },
  {
   "cell_type": "code",
   "execution_count": 3,
   "metadata": {},
   "outputs": [
    {
     "name": "stdout",
     "output_type": "stream",
     "text": [
      "['rec.autos' 'comp.sys.mac.hardware' 'comp.graphics' 'sci.space'\n",
      " 'talk.politics.guns' 'sci.med' 'comp.sys.ibm.pc.hardware'\n",
      " 'comp.os.ms-windows.misc' 'rec.motorcycles' 'talk.religion.misc'\n",
      " 'misc.forsale' 'alt.atheism' 'sci.electronics' 'comp.windows.x'\n",
      " 'rec.sport.hockey' 'rec.sport.baseball' 'soc.religion.christian'\n",
      " 'talk.politics.mideast' 'talk.politics.misc' 'sci.crypt']\n"
     ]
    },
    {
     "data": {
      "text/html": [
       "<div>\n",
       "<style scoped>\n",
       "    .dataframe tbody tr th:only-of-type {\n",
       "        vertical-align: middle;\n",
       "    }\n",
       "\n",
       "    .dataframe tbody tr th {\n",
       "        vertical-align: top;\n",
       "    }\n",
       "\n",
       "    .dataframe thead th {\n",
       "        text-align: right;\n",
       "    }\n",
       "</style>\n",
       "<table border=\"1\" class=\"dataframe\">\n",
       "  <thead>\n",
       "    <tr style=\"text-align: right;\">\n",
       "      <th></th>\n",
       "      <th>content</th>\n",
       "      <th>target</th>\n",
       "      <th>target_names</th>\n",
       "    </tr>\n",
       "  </thead>\n",
       "  <tbody>\n",
       "    <tr>\n",
       "      <th>0</th>\n",
       "      <td>From: lerxst@wam.umd.edu (where's my thing)\\nS...</td>\n",
       "      <td>7</td>\n",
       "      <td>rec.autos</td>\n",
       "    </tr>\n",
       "    <tr>\n",
       "      <th>1</th>\n",
       "      <td>From: guykuo@carson.u.washington.edu (Guy Kuo)...</td>\n",
       "      <td>4</td>\n",
       "      <td>comp.sys.mac.hardware</td>\n",
       "    </tr>\n",
       "    <tr>\n",
       "      <th>2</th>\n",
       "      <td>From: twillis@ec.ecn.purdue.edu (Thomas E Will...</td>\n",
       "      <td>4</td>\n",
       "      <td>comp.sys.mac.hardware</td>\n",
       "    </tr>\n",
       "    <tr>\n",
       "      <th>3</th>\n",
       "      <td>From: jgreen@amber (Joe Green)\\nSubject: Re: W...</td>\n",
       "      <td>1</td>\n",
       "      <td>comp.graphics</td>\n",
       "    </tr>\n",
       "    <tr>\n",
       "      <th>4</th>\n",
       "      <td>From: jcm@head-cfa.harvard.edu (Jonathan McDow...</td>\n",
       "      <td>14</td>\n",
       "      <td>sci.space</td>\n",
       "    </tr>\n",
       "  </tbody>\n",
       "</table>\n",
       "</div>"
      ],
      "text/plain": [
       "                                             content  target  \\\n",
       "0  From: lerxst@wam.umd.edu (where's my thing)\\nS...       7   \n",
       "1  From: guykuo@carson.u.washington.edu (Guy Kuo)...       4   \n",
       "2  From: twillis@ec.ecn.purdue.edu (Thomas E Will...       4   \n",
       "3  From: jgreen@amber (Joe Green)\\nSubject: Re: W...       1   \n",
       "4  From: jcm@head-cfa.harvard.edu (Jonathan McDow...      14   \n",
       "\n",
       "            target_names  \n",
       "0              rec.autos  \n",
       "1  comp.sys.mac.hardware  \n",
       "2  comp.sys.mac.hardware  \n",
       "3          comp.graphics  \n",
       "4              sci.space  "
      ]
     },
     "execution_count": 3,
     "metadata": {},
     "output_type": "execute_result"
    }
   ],
   "source": [
    "df = pd.read_json('https://raw.githubusercontent.com/selva86/datasets/master/newsgroups.json')\n",
    "print(df.target_names.unique())\n",
    "df.head()"
   ]
  },
  {
   "cell_type": "markdown",
   "metadata": {},
   "source": [
    "### Remove emails and newline characters\n"
   ]
  },
  {
   "cell_type": "code",
   "execution_count": 6,
   "metadata": {},
   "outputs": [
    {
     "name": "stdout",
     "output_type": "stream",
     "text": [
      "['From: (wheres my thing) Subject: WHAT car is this!? Nntp-Posting-Host: '\n",
      " 'rac3.wam.umd.edu Organization: University of Maryland, College Park Lines: '\n",
      " '15 I was wondering if anyone out there could enlighten me on this car I saw '\n",
      " 'the other day. It was a 2-door sports car, looked to be from the late 60s/ '\n",
      " 'early 70s. It was called a Bricklin. The doors were really small. In '\n",
      " 'addition, the front bumper was separate from the rest of the body. This is '\n",
      " 'all I know. If anyone can tellme a model name, engine specs, years of '\n",
      " 'production, where this car is made, history, or whatever info you have on '\n",
      " 'this funky looking car, please e-mail. Thanks, - IL ---- brought to you by '\n",
      " 'your neighborhood Lerxst ---- ']\n"
     ]
    }
   ],
   "source": [
    "# Convert to list\n",
    "data = df.content.values.tolist()\n",
    "\n",
    "# Remove Emails\n",
    "data = [re.sub('\\S*@\\S*\\s?', '', sent) for sent in data]\n",
    "\n",
    "# Remove new line characters\n",
    "data = [re.sub('\\s+', ' ', sent) for sent in data]\n",
    "\n",
    "# Remove distracting single quotes\n",
    "data = [re.sub(\"\\'\", \"\", sent) for sent in data]\n",
    "\n",
    "pprint(data[:1])"
   ]
  },
  {
   "cell_type": "markdown",
   "metadata": {},
   "source": [
    "#### We need to break down each sentence into a list of words through tokenization, while clearing up all the messy text in the process for LDA to consume."
   ]
  },
  {
   "cell_type": "markdown",
   "metadata": {},
   "source": [
    "## Tokenize words and Clean-up text"
   ]
  },
  {
   "cell_type": "code",
   "execution_count": 7,
   "metadata": {},
   "outputs": [
    {
     "name": "stdout",
     "output_type": "stream",
     "text": [
      "[['from', 'wheres', 'my', 'thing', 'subject', 'what', 'car', 'is', 'this', 'nntp', 'posting', 'host', 'rac', 'wam', 'umd', 'edu', 'organization', 'university', 'of', 'maryland', 'college', 'park', 'lines', 'was', 'wondering', 'if', 'anyone', 'out', 'there', 'could', 'enlighten', 'me', 'on', 'this', 'car', 'saw', 'the', 'other', 'day', 'it', 'was', 'door', 'sports', 'car', 'looked', 'to', 'be', 'from', 'the', 'late', 'early', 'it', 'was', 'called', 'bricklin', 'the', 'doors', 'were', 'really', 'small', 'in', 'addition', 'the', 'front', 'bumper', 'was', 'separate', 'from', 'the', 'rest', 'of', 'the', 'body', 'this', 'is', 'all', 'know', 'if', 'anyone', 'can', 'tellme', 'model', 'name', 'engine', 'specs', 'years', 'of', 'production', 'where', 'this', 'car', 'is', 'made', 'history', 'or', 'whatever', 'info', 'you', 'have', 'on', 'this', 'funky', 'looking', 'car', 'please', 'mail', 'thanks', 'il', 'brought', 'to', 'you', 'by', 'your', 'neighborhood', 'lerxst']]\n"
     ]
    }
   ],
   "source": [
    "def sent_to_words(sentences):\n",
    "    for sentence in sentences:\n",
    "        yield(gensim.utils.simple_preprocess(str(sentence), deacc=True))  # deacc=True removes punctuations\n",
    "\n",
    "data_words = list(sent_to_words(data))\n",
    "\n",
    "print(data_words[:1])"
   ]
  },
  {
   "cell_type": "markdown",
   "metadata": {},
   "source": [
    "## Creating Bigram and Trigram Models"
   ]
  },
  {
   "cell_type": "code",
   "execution_count": 8,
   "metadata": {},
   "outputs": [
    {
     "name": "stdout",
     "output_type": "stream",
     "text": [
      "['from', 'wheres', 'my', 'thing', 'subject', 'what', 'car', 'is', 'this', 'nntp_posting_host', 'rac_wam_umd_edu', 'organization', 'university', 'of', 'maryland_college_park', 'lines', 'was', 'wondering', 'if', 'anyone', 'out', 'there', 'could', 'enlighten', 'me', 'on', 'this', 'car', 'saw', 'the', 'other', 'day', 'it', 'was', 'door', 'sports', 'car', 'looked', 'to', 'be', 'from', 'the', 'late', 'early', 'it', 'was', 'called', 'bricklin', 'the', 'doors', 'were', 'really', 'small', 'in', 'addition', 'the', 'front_bumper', 'was', 'separate', 'from', 'the', 'rest', 'of', 'the', 'body', 'this', 'is', 'all', 'know', 'if', 'anyone', 'can', 'tellme', 'model', 'name', 'engine', 'specs', 'years', 'of', 'production', 'where', 'this', 'car', 'is', 'made', 'history', 'or', 'whatever', 'info', 'you', 'have', 'on', 'this', 'funky', 'looking', 'car', 'please', 'mail', 'thanks', 'il', 'brought', 'to', 'you', 'by', 'your', 'neighborhood', 'lerxst']\n"
     ]
    }
   ],
   "source": [
    "# Build the bigram and trigram models\n",
    "bigram = gensim.models.Phrases(data_words, min_count=5, threshold=100) # higher threshold fewer phrases.\n",
    "trigram = gensim.models.Phrases(bigram[data_words], threshold=100)  \n",
    "\n",
    "# Faster way to get a sentence clubbed as a trigram/bigram\n",
    "bigram_mod = gensim.models.phrases.Phraser(bigram)\n",
    "trigram_mod = gensim.models.phrases.Phraser(trigram)\n",
    "\n",
    "# See trigram example\n",
    "print(trigram_mod[bigram_mod[data_words[0]]])"
   ]
  },
  {
   "cell_type": "markdown",
   "metadata": {},
   "source": [
    "## Remove Stopwords, Make Bigrams and Lemmatize\n"
   ]
  },
  {
   "cell_type": "code",
   "execution_count": 9,
   "metadata": {},
   "outputs": [],
   "source": [
    "# Define functions for stopwords, bigrams, trigrams and lemmatization\n",
    "def remove_stopwords(texts):\n",
    "    return [[word for word in simple_preprocess(str(doc)) if word not in stop_words] for doc in texts]\n",
    "\n",
    "def make_bigrams(texts):\n",
    "    return [bigram_mod[doc] for doc in texts]\n",
    "\n",
    "def make_trigrams(texts):\n",
    "    return [trigram_mod[bigram_mod[doc]] for doc in texts]\n",
    "\n",
    "def lemmatization(texts, allowed_postags=['NOUN', 'ADJ', 'VERB', 'ADV']):\n",
    "    \"\"\"https://spacy.io/api/annotation\"\"\"\n",
    "    texts_out = []\n",
    "    for sent in texts:\n",
    "        doc = nlp(\" \".join(sent)) \n",
    "        texts_out.append([token.lemma_ for token in doc if token.pos_ in allowed_postags])\n",
    "    return texts_out"
   ]
  },
  {
   "cell_type": "markdown",
   "metadata": {},
   "source": [
    "## Calling the functions in order"
   ]
  },
  {
   "cell_type": "code",
   "execution_count": 12,
   "metadata": {},
   "outputs": [
    {
     "name": "stdout",
     "output_type": "stream",
     "text": [
      "✔ Download and installation successful\n",
      "You can now load the package via spacy.load('en_core_web_sm')\n"
     ]
    }
   ],
   "source": [
    "import spacy\n",
    "from spacy.cli.download import download\n",
    "download(model=\"en_core_web_sm\")"
   ]
  },
  {
   "cell_type": "code",
   "execution_count": 13,
   "metadata": {},
   "outputs": [
    {
     "name": "stdout",
     "output_type": "stream",
     "text": [
      "[['where', 's', 'thing', 'car', 'nntp_poste', 'host', 'rac_wam', 'umd', 'organization', 'university', 'park', 'line', 'wonder', 'enlighten', 'car', 'saw', 'day', 'door', 'sport', 'car', 'look', 'late', 'early', 'call', 'bricklin', 'door', 'really', 'small', 'addition', 'separate', 'rest', 'body', 'know', 'tellme', 'model', 'name', 'engine', 'spec', 'year', 'production', 'car', 'make', 'history', 'info', 'funky', 'look', 'car', 'mail', 'thank', 'bring', 'neighborhood', 'lerxst']]\n"
     ]
    }
   ],
   "source": [
    "# Remove Stop Words\n",
    "data_words_nostops = remove_stopwords(data_words)\n",
    "\n",
    "# Form Bigrams\n",
    "data_words_bigrams = make_bigrams(data_words_nostops)\n",
    "\n",
    "# Initialize spacy 'en' model, keeping only tagger component (for efficiency)\n",
    "# python3 -m spacy download en\n",
    "nlp = spacy.load('en_core_web_sm', disable=['parser', 'ner'])\n",
    "\n",
    "# Do lemmatization keeping only noun, adj, vb, adv\n",
    "data_lemmatized = lemmatization(data_words_bigrams, allowed_postags=['NOUN', 'ADJ', 'VERB', 'ADV'])\n",
    "\n",
    "print(data_lemmatized[:1])"
   ]
  },
  {
   "cell_type": "markdown",
   "metadata": {},
   "source": [
    "## Create the Dictionary and Corpus needed for Topic Modeling"
   ]
  },
  {
   "cell_type": "code",
   "execution_count": 14,
   "metadata": {},
   "outputs": [
    {
     "name": "stdout",
     "output_type": "stream",
     "text": [
      "[[(0, 1), (1, 1), (2, 1), (3, 1), (4, 1), (5, 5), (6, 1), (7, 2), (8, 1), (9, 1), (10, 1), (11, 1), (12, 1), (13, 1), (14, 1), (15, 1), (16, 1), (17, 1), (18, 1), (19, 2), (20, 1), (21, 1), (22, 1), (23, 1), (24, 1), (25, 1), (26, 1), (27, 1), (28, 1), (29, 1), (30, 1), (31, 1), (32, 1), (33, 1), (34, 1), (35, 1), (36, 1), (37, 1), (38, 1), (39, 1), (40, 1), (41, 1), (42, 1), (43, 1), (44, 1), (45, 1)]]\n"
     ]
    }
   ],
   "source": [
    "# Create Dictionary\n",
    "id2word = corpora.Dictionary(data_lemmatized)\n",
    "\n",
    "# Create Corpus\n",
    "texts = data_lemmatized\n",
    "\n",
    "# Term Document Frequency\n",
    "corpus = [id2word.doc2bow(text) for text in texts]\n",
    "\n",
    "# View\n",
    "print(corpus[:1])"
   ]
  },
  {
   "cell_type": "markdown",
   "metadata": {},
   "source": [
    "### Gensim creates a unique id for each word in the document. The produced corpus shown above is a mapping of (word_id, word_frequency).\n",
    "### For example, (0, 1) above implies, word id 0 occurs once in the first document. Likewise, word id 1 occurs twice and so on.\n",
    "### This is used as the input by the LDA model.\n",
    "### If you want to see what word a given id corresponds to, pass the id as a key to the dictionary.\n",
    "\n"
   ]
  },
  {
   "cell_type": "code",
   "execution_count": 15,
   "metadata": {},
   "outputs": [
    {
     "data": {
      "text/plain": [
       "'addition'"
      ]
     },
     "execution_count": 15,
     "metadata": {},
     "output_type": "execute_result"
    }
   ],
   "source": [
    "id2word[0]\n"
   ]
  },
  {
   "cell_type": "code",
   "execution_count": 16,
   "metadata": {},
   "outputs": [
    {
     "data": {
      "text/plain": [
       "[[('addition', 1),\n",
       "  ('body', 1),\n",
       "  ('bricklin', 1),\n",
       "  ('bring', 1),\n",
       "  ('call', 1),\n",
       "  ('car', 5),\n",
       "  ('day', 1),\n",
       "  ('door', 2),\n",
       "  ('early', 1),\n",
       "  ('engine', 1),\n",
       "  ('enlighten', 1),\n",
       "  ('funky', 1),\n",
       "  ('history', 1),\n",
       "  ('host', 1),\n",
       "  ('info', 1),\n",
       "  ('know', 1),\n",
       "  ('late', 1),\n",
       "  ('lerxst', 1),\n",
       "  ('line', 1),\n",
       "  ('look', 2),\n",
       "  ('mail', 1),\n",
       "  ('make', 1),\n",
       "  ('model', 1),\n",
       "  ('name', 1),\n",
       "  ('neighborhood', 1),\n",
       "  ('nntp_poste', 1),\n",
       "  ('organization', 1),\n",
       "  ('park', 1),\n",
       "  ('production', 1),\n",
       "  ('rac_wam', 1),\n",
       "  ('really', 1),\n",
       "  ('rest', 1),\n",
       "  ('s', 1),\n",
       "  ('saw', 1),\n",
       "  ('separate', 1),\n",
       "  ('small', 1),\n",
       "  ('spec', 1),\n",
       "  ('sport', 1),\n",
       "  ('tellme', 1),\n",
       "  ('thank', 1),\n",
       "  ('thing', 1),\n",
       "  ('umd', 1),\n",
       "  ('university', 1),\n",
       "  ('where', 1),\n",
       "  ('wonder', 1),\n",
       "  ('year', 1)]]"
      ]
     },
     "execution_count": 16,
     "metadata": {},
     "output_type": "execute_result"
    }
   ],
   "source": [
    "# Human readable format of corpus (term-frequency)\n",
    "[[(id2word[id], freq) for id, freq in cp] for cp in corpus[:1]]"
   ]
  },
  {
   "cell_type": "markdown",
   "metadata": {},
   "source": [
    "## Building the Topic Model"
   ]
  },
  {
   "cell_type": "code",
   "execution_count": 17,
   "metadata": {},
   "outputs": [],
   "source": [
    "# Build LDA model\n",
    "lda_model = gensim.models.ldamodel.LdaModel(corpus=corpus,\n",
    "                                           id2word=id2word,\n",
    "                                           num_topics=20, \n",
    "                                           random_state=100,\n",
    "                                           update_every=1,\n",
    "                                           chunksize=100,\n",
    "                                           passes=10,\n",
    "                                           alpha='auto',\n",
    "                                           per_word_topics=True)"
   ]
  },
  {
   "cell_type": "markdown",
   "metadata": {},
   "source": [
    "## View the topics in LDA model"
   ]
  },
  {
   "cell_type": "code",
   "execution_count": 18,
   "metadata": {},
   "outputs": [
    {
     "name": "stdout",
     "output_type": "stream",
     "text": [
      "[(0,\n",
      "  '0.587*\"ax\" + 0.097*\"_\" + 0.047*\"max\" + 0.020*\"screen\" + 0.013*\"mouse\" + '\n",
      "  '0.008*\"mr\" + 0.007*\"modem\" + 0.006*\"el\" + 0.005*\"cds\" + 0.005*\"honda\"'),\n",
      " (1,\n",
      "  '0.079*\"key\" + 0.041*\"chip\" + 0.022*\"encryption\" + 0.021*\"server\" + '\n",
      "  '0.019*\"technology\" + 0.019*\"security\" + 0.018*\"clipper\" + 0.016*\"algorithm\" '\n",
      "  '+ 0.016*\"controller\" + 0.015*\"system\"'),\n",
      " (2,\n",
      "  '0.033*\"self\" + 0.028*\"normal\" + 0.024*\"son\" + 0.024*\"proof\" + '\n",
      "  '0.023*\"father\" + 0.022*\"alone\" + 0.021*\"muslim\" + 0.020*\"islam\" + '\n",
      "  '0.020*\"iran\" + 0.019*\"vote\"'),\n",
      " (3,\n",
      "  '0.033*\"people\" + 0.018*\"state\" + 0.015*\"right\" + 0.012*\"israel\" + '\n",
      "  '0.011*\"group\" + 0.011*\"government\" + 0.010*\"issue\" + 0.008*\"death\" + '\n",
      "  '0.008*\"kill\" + 0.008*\"case\"'),\n",
      " (4,\n",
      "  '0.030*\"trivial\" + 0.021*\"allen\" + 0.018*\"click\" + 0.016*\"ms_window\" + '\n",
      "  '0.004*\"rude\" + 0.000*\"sphere\" + 0.000*\"steven\" + 0.000*\"central\" + '\n",
      "  '0.000*\"hitachi\" + 0.000*\"circle\"'),\n",
      " (5,\n",
      "  '0.071*\"gun\" + 0.025*\"crime\" + 0.023*\"police\" + 0.022*\"weapon\" + '\n",
      "  '0.022*\"firearm\" + 0.019*\"safety\" + 0.019*\"rsa\" + 0.016*\"weight\" + '\n",
      "  '0.016*\"rate\" + 0.015*\"fire\"'),\n",
      " (6,\n",
      "  '0.087*\"law\" + 0.043*\"public\" + 0.036*\"suggest\" + 0.024*\"bill\" + '\n",
      "  '0.022*\"ride\" + 0.021*\"clinton\" + 0.020*\"private\" + 0.020*\"legal\" + '\n",
      "  '0.018*\"community\" + 0.016*\"ignore\"'),\n",
      " (7,\n",
      "  '0.037*\"report\" + 0.030*\"test\" + 0.026*\"patient\" + 0.021*\"study\" + '\n",
      "  '0.020*\"section\" + 0.017*\"publish\" + 0.016*\"review\" + 0.015*\"research\" + '\n",
      "  '0.014*\"april\" + 0.014*\"information\"'),\n",
      " (8,\n",
      "  '0.036*\"team\" + 0.036*\"game\" + 0.030*\"year\" + 0.025*\"win\" + 0.023*\"play\" + '\n",
      "  '0.017*\"player\" + 0.016*\"internet\" + 0.011*\"season\" + 0.011*\"division\" + '\n",
      "  '0.011*\"master\"'),\n",
      " (9,\n",
      "  '0.023*\"god\" + 0.021*\"say\" + 0.018*\"believe\" + 0.016*\"evidence\" + '\n",
      "  '0.016*\"reason\" + 0.013*\"christian\" + 0.011*\"claim\" + 0.011*\"point\" + '\n",
      "  '0.011*\"man\" + 0.010*\"think\"'),\n",
      " (10,\n",
      "  '0.094*\"video\" + 0.049*\"route\" + 0.049*\"mhz\" + 0.039*\"md\" + 0.029*\"zone\" + '\n",
      "  '0.022*\"km\" + 0.017*\"radius\" + 0.017*\"rs\" + 0.017*\"pop\" + '\n",
      "  '0.014*\"recommendation\"'),\n",
      " (11,\n",
      "  '0.100*\"apple\" + 0.043*\"multiple\" + 0.025*\"reflect\" + 0.010*\"fuzzy\" + '\n",
      "  '0.008*\"absurd\" + 0.005*\"judaism\" + 0.004*\"ibm_pc\" + 0.004*\"cart\" + '\n",
      "  '0.000*\"centris\" + 0.000*\"cd\"'),\n",
      " (12,\n",
      "  '0.053*\"armenian\" + 0.041*\"greek\" + 0.039*\"soldier\" + 0.039*\"village\" + '\n",
      "  '0.033*\"turk\" + 0.027*\"turkish\" + 0.023*\"occupy\" + 0.021*\"turkey\" + '\n",
      "  '0.013*\"escape\" + 0.012*\"armenia\"'),\n",
      " (13,\n",
      "  '0.061*\"car\" + 0.040*\"price\" + 0.039*\"sale\" + 0.036*\"sell\" + 0.028*\"model\" + '\n",
      "  '0.023*\"school\" + 0.022*\"distribution_na\" + 0.022*\"buy\" + '\n",
      "  '0.019*\"distribution\" + 0.017*\"drive\"'),\n",
      " (14,\n",
      "  '0.021*\"system\" + 0.019*\"use\" + 0.016*\"window\" + 0.015*\"mail\" + '\n",
      "  '0.015*\"program\" + 0.014*\"file\" + 0.014*\"thank\" + 0.012*\"computer\" + '\n",
      "  '0.011*\"card\" + 0.011*\"line\"'),\n",
      " (15,\n",
      "  '0.030*\"line\" + 0.030*\"organization\" + 0.025*\"write\" + 0.024*\"do\" + '\n",
      "  '0.019*\"article\" + 0.018*\"get\" + 0.014*\"go\" + 0.013*\"know\" + '\n",
      "  '0.012*\"nntp_poste\" + 0.011*\"make\"'),\n",
      " (16,\n",
      "  '0.082*\"space\" + 0.025*\"pa\" + 0.023*\"earth\" + 0.020*\"launch\" + 0.019*\"moon\" '\n",
      "  '+ 0.018*\"nasa\" + 0.018*\"mission\" + 0.017*\"orbit\" + 0.015*\"satellite\" + '\n",
      "  '0.013*\"resource\"'),\n",
      " (17,\n",
      "  '0.079*\"physical\" + 0.062*\"pin\" + 0.041*\"character\" + 0.038*\"wing\" + '\n",
      "  '0.035*\"motif\" + 0.029*\"medium\" + 0.026*\"processor\" + 0.025*\"richard\" + '\n",
      "  '0.015*\"insert\" + 0.015*\"kevin\"'),\n",
      " (18,\n",
      "  '0.077*\"david\" + 0.068*\"graphic\" + 0.060*\"display\" + 0.039*\"paul\" + '\n",
      "  '0.030*\"texas\" + 0.022*\"workstation\" + 0.019*\"wave\" + 0.017*\"russia\" + '\n",
      "  '0.016*\"bar\" + 0.015*\"consequence\"'),\n",
      " (19,\n",
      "  '0.249*\"drive\" + 0.065*\"scsi\" + 0.042*\"ide\" + 0.029*\"circuit\" + 0.024*\"mb\" + '\n",
      "  '0.019*\"device\" + 0.017*\"quadra\" + 0.014*\"dale\" + 0.014*\"stream\" + '\n",
      "  '0.014*\"interface\"')]\n"
     ]
    }
   ],
   "source": [
    "# Print the Keyword in the 10 topics\n",
    "pprint(lda_model.print_topics())\n",
    "doc_lda = lda_model[corpus]"
   ]
  },
  {
   "cell_type": "markdown",
   "metadata": {},
   "source": [
    "### How to interpret this?\n",
    "### Topic 0 is represented as 0.587*\"ax\" + 0.097*\"_\" + 0.047*\"max\" + 0.020*\"screen\" + 0.013*\"mouse\" + '\n",
    "###  '0.008*\"mr\" + 0.007*\"modem\" + 0.006*\"el\" + 0.005*\"cds\" + 0.005*\"honda\"'"
   ]
  },
  {
   "cell_type": "markdown",
   "metadata": {},
   "source": [
    "### It means the top 10 keywords that contribute to this topic are: ‘ax’, ‘max’, ‘screen’.. and so on and the weight of ‘ax’ on topic 0 is 0.587.\n",
    "### The weights reflect how important a keyword is to that topic."
   ]
  },
  {
   "cell_type": "markdown",
   "metadata": {},
   "source": [
    "## Compute Model Perplexity and Coherence Score"
   ]
  },
  {
   "cell_type": "code",
   "execution_count": 19,
   "metadata": {},
   "outputs": [
    {
     "name": "stdout",
     "output_type": "stream",
     "text": [
      "\n",
      "Perplexity:  -14.273084520688098\n",
      "\n",
      "Coherence Score:  0.5061935618822515\n"
     ]
    }
   ],
   "source": [
    "# Compute Perplexity\n",
    "print('\\nPerplexity: ', lda_model.log_perplexity(corpus))  # a measure of how good the model is. lower the better.\n",
    "\n",
    "# Compute Coherence Score\n",
    "coherence_model_lda = CoherenceModel(model=lda_model, texts=data_lemmatized, dictionary=id2word, coherence='c_v')\n",
    "coherence_lda = coherence_model_lda.get_coherence()\n",
    "print('\\nCoherence Score: ', coherence_lda)"
   ]
  },
  {
   "cell_type": "markdown",
   "metadata": {},
   "source": [
    "## Visualize the topics-keywords"
   ]
  },
  {
   "cell_type": "code",
   "execution_count": null,
   "metadata": {},
   "outputs": [],
   "source": []
  },
  {
   "cell_type": "code",
   "execution_count": 23,
   "metadata": {},
   "outputs": [
    {
     "data": {
      "text/html": [
       "\n",
       "<link rel=\"stylesheet\" type=\"text/css\" href=\"https://cdn.jsdelivr.net/gh/bmabey/pyLDAvis@3.3.1/pyLDAvis/js/ldavis.v1.0.0.css\">\n",
       "\n",
       "\n",
       "<div id=\"ldavis_el1652418987926628489188503950\"></div>\n",
       "<script type=\"text/javascript\">\n",
       "\n",
       "var ldavis_el1652418987926628489188503950_data = {\"mdsDat\": {\"x\": [0.3801672729333489, 0.2796991711568712, 0.33639778775277657, 0.29308495713528643, -0.013393652077377523, 0.1185147276707815, 0.01801454235434809, 0.04014367223934606, -0.027191361283748914, -0.02379836836687342, -0.07752057995717565, -0.07944751660017252, -0.12176850585260529, -0.10276573733501373, -0.15350847726235115, -0.14256813323594814, -0.14891457361663532, -0.17893869424870026, -0.19585122220550505, -0.20035530920065175], \"y\": [-0.052326448259504256, 0.24999240718142154, -0.07459063969447936, -0.09703980242252361, -0.10626186093816, -0.19421191409735447, -0.00043436513096514284, 0.25810466749811894, 0.0316753057888264, 0.09009713723221273, -0.007964258153258475, 0.05207197296217549, -0.009078977978526297, -0.06004520072029269, -0.028789016627065817, -0.028608263676909357, 0.028710605069595007, -0.020381929189681534, -0.016019051495815326, -0.01490036734781375], \"topics\": [1, 2, 3, 4, 5, 6, 7, 8, 9, 10, 11, 12, 13, 14, 15, 16, 17, 18, 19, 20], \"cluster\": [1, 1, 1, 1, 1, 1, 1, 1, 1, 1, 1, 1, 1, 1, 1, 1, 1, 1, 1, 1], \"Freq\": [37.35156341174093, 12.685894397080535, 12.190935144967977, 10.964721657294891, 5.634467852626512, 4.908728159222444, 2.556368638378907, 2.4348800230763734, 2.264110387508388, 1.6088111539809757, 1.4936608934001812, 1.4420472169750214, 1.0678779888028211, 0.9684195451765475, 0.7296220363449646, 0.6935816882739381, 0.4908311827340234, 0.3413837469555103, 0.12047511973388683, 0.05161975572519628]}, \"tinfo\": {\"Term\": [\"ax\", \"_\", \"organization\", \"line\", \"drive\", \"people\", \"write\", \"max\", \"key\", \"article\", \"do\", \"year\", \"system\", \"god\", \"say\", \"use\", \"space\", \"get\", \"law\", \"team\", \"game\", \"car\", \"go\", \"believe\", \"state\", \"gun\", \"know\", \"right\", \"think\", \"evidence\", \"article\", \"go\", \"s\", \"ve\", \"back\", \"re\", \"bad\", \"hear\", \"lot\", \"probably\", \"maybe\", \"money\", \"ill\", \"remember\", \"turn\", \"sound\", \"face\", \"guess\", \"friend\", \"bike\", \"light\", \"pretty\", \"couple\", \"have\", \"cheap\", \"wonder\", \"stuff\", \"black\", \"tape\", \"nice\", \"write\", \"d\", \"organization\", \"nntp_poste\", \"get\", \"put\", \"want\", \"do\", \"m\", \"sure\", \"much\", \"really\", \"line\", \"host\", \"well\", \"time\", \"look\", \"know\", \"university\", \"good\", \"reply\", \"make\", \"see\", \"think\", \"take\", \"try\", \"come\", \"work\", \"say\", \"thing\", \"way\", \"window\", \"mail\", \"file\", \"card\", \"software\", \"email\", \"machine\", \"info\", \"copy\", \"version\", \"cpu\", \"entry\", \"memory\", \"color\", \"application\", \"hardware\", \"disk\", \"appreciate\", \"instal\", \"scan\", \"input\", \"package\", \"format\", \"unix\", \"motherboard\", \"library\", \"digital\", \"port\", \"feature\", \"ibm\", \"fax\", \"board\", \"pc\", \"program\", \"computer\", \"mac\", \"driver\", \"available\", \"system\", \"mode\", \"thank\", \"address\", \"include\", \"use\", \"user\", \"source\", \"send\", \"set\", \"run\", \"information\", \"support\", \"bit\", \"line\", \"also\", \"need\", \"problem\", \"work\", \"god\", \"believe\", \"evidence\", \"christian\", \"claim\", \"sense\", \"faith\", \"bible\", \"religion\", \"argument\", \"accept\", \"explain\", \"truth\", \"belief\", \"atheist\", \"certain\", \"conclusion\", \"christianity\", \"reality\", \"christ\", \"indeed\", \"lie\", \"logic\", \"family\", \"notice\", \"revelation\", \"nature\", \"knowledge\", \"associate\", \"therefore\", \"word\", \"exist\", \"true\", \"reason\", \"man\", \"human\", \"prove\", \"life\", \"science\", \"speak\", \"book\", \"say\", \"point\", \"mean\", \"question\", \"think\", \"many\", \"people\", \"fact\", \"thing\", \"see\", \"know\", \"make\", \"come\", \"way\", \"israel\", \"death\", \"american\", \"force\", \"whole\", \"die\", \"israeli\", \"discussion\", \"country\", \"church\", \"member\", \"president\", \"drug\", \"jew\", \"grant\", \"thus\", \"arab\", \"jewish\", \"choice\", \"flame\", \"lord\", \"clearly\", \"serve\", \"refer\", \"peace\", \"america\", \"trial\", \"germany\", \"bomb\", \"freedom\", \"action\", \"individual\", \"certainly\", \"military\", \"policy\", \"war\", \"state\", \"land\", \"kill\", \"issue\", \"people\", \"rule\", \"government\", \"situation\", \"city\", \"right\", \"group\", \"attack\", \"live\", \"case\", \"child\", \"fact\", \"world\", \"many\", \"year\", \"say\", \"ax\", \"_\", \"max\", \"screen\", \"mouse\", \"modem\", \"el\", \"cds\", \"honda\", \"ex\", \"default\", \"ron\", \"charle\", \"sam\", \"film\", \"stable\", \"fancy\", \"plot\", \"buffer\", \"ins_cwru\", \"mailing_list\", \"bolt\", \"catalog\", \"tight\", \"subscription\", \"parameter\", \"gt\", \"dirt\", \"log\", \"pp\", \"mr\", \"m\", \"team\", \"game\", \"win\", \"play\", \"player\", \"internet\", \"season\", \"division\", \"master\", \"fan\", \"canada\", \"series\", \"trade\", \"nhl\", \"cool\", \"score\", \"mike\", \"scott\", \"michael\", \"dave\", \"chicago\", \"star\", \"boston\", \"air\", \"pen\", \"peter\", \"baseball\", \"blue\", \"manager\", \"van\", \"miss\", \"goal\", \"year\", \"lose\", \"last\", \"run\", \"first\", \"next\", \"patient\", \"publish\", \"review\", \"paper\", \"disease\", \"college\", \"health\", \"headache\", \"scientific\", \"univ\", \"treatment\", \"doctor\", \"letter\", \"medical\", \"btw\", \"ice\", \"benefit\", \"statistic\", \"detroit\", \"percent\", \"conference\", \"australia\", \"exchange\", \"confirm\", \"primary\", \"publication\", \"medicine\", \"newspaper\", \"journal\", \"minnesota\", \"test\", \"report\", \"section\", \"study\", \"analysis\", \"special\", \"possibly\", \"april\", \"effect\", \"page\", \"national\", \"research\", \"service\", \"information\", \"office\", \"key\", \"encryption\", \"server\", \"clipper\", \"algorithm\", \"controller\", \"secure\", \"tap\", \"clipper_chip\", \"secret\", \"agency\", \"communication\", \"nsa\", \"announcement\", \"crypto\", \"data\", \"mu\", \"facility\", \"archive\", \"register\", \"privacy\", \"prize\", \"mo\", \"export\", \"unknown\", \"scheme\", \"motorola\", \"warrant\", \"location\", \"daniel\", \"chip\", \"security\", \"trust\", \"block\", \"technology\", \"public\", \"bit\", \"datum\", \"system\", \"message\", \"government\", \"information\", \"use\", \"phone\", \"car\", \"price\", \"sale\", \"sell\", \"model\", \"school\", \"distribution_na\", \"distribution\", \"corporation\", \"brain\", \"engine\", \"eat\", \"illinois\", \"corp\", \"mile\", \"dealer\", \"track\", \"hole\", \"warranty\", \"chris\", \"channel\", \"joseph\", \"dual\", \"oil\", \"co\", \"frame\", \"expansion\", \"daughter\", \"probe\", \"heat\", \"direct\", \"replace\", \"hot\", \"steal\", \"buy\", \"radio\", \"owner\", \"drive\", \"expensive\", \"vehicle\", \"space\", \"pa\", \"launch\", \"moon\", \"nasa\", \"mission\", \"orbit\", \"satellite\", \"resource\", \"plane\", \"mar\", \"flight\", \"pub\", \"sci\", \"dan\", \"astronomy\", \"shuttle\", \"collin\", \"sky\", \"lunar\", \"radiation\", \"environmental\", \"solar\", \"space_station\", \"variable\", \"ozone\", \"extension\", \"sgi\", \"apollo\", \"planetary\", \"rocket\", \"earth\", \"fuel\", \"project\", \"surface\", \"research\", \"nuclear\", \"science\", \"image\", \"sun\", \"gun\", \"crime\", \"police\", \"weapon\", \"firearm\", \"rsa\", \"weight\", \"arm\", \"cop\", \"terrorism\", \"significant\", \"particularly\", \"effective\", \"impact\", \"united_state\", \"cub\", \"prior\", \"meeting\", \"inhabitant\", \"role\", \"consideration\", \"officer\", \"informed\", \"director\", \"regularly\", \"handgun\", \"ammunition\", \"threat\", \"effectively\", \"invite\", \"criminal\", \"safety\", \"license\", \"fire\", \"rate\", \"shoot\", \"carry\", \"increase\", \"public\", \"suggest\", \"law\", \"ride\", \"clinton\", \"legal\", \"pgp\", \"tax\", \"federal\", \"congress\", \"rider\", \"cycle\", \"homosexual\", \"administration\", \"legitimate\", \"solid\", \"panel\", \"restriction\", \"prohibit\", \"cryptography\", \"meaning\", \"sufficient\", \"regulation\", \"previously\", \"partner\", \"cbr\", \"flow\", \"assure\", \"investment\", \"hmmm\", \"introduce\", \"bill\", \"ignore\", \"community\", \"public\", \"private\", \"sentence\", \"court\", \"obtain\", \"industry\", \"concern\", \"break\", \"require\", \"self\", \"normal\", \"son\", \"proof\", \"father\", \"alone\", \"islam\", \"iran\", \"vote\", \"helmet\", \"imply\", \"specify\", \"planet\", \"economic\", \"concerned\", \"observation\", \"devil\", \"task\", \"ban\", \"islamic\", \"strip\", \"soul\", \"relation\", \"remind\", \"spacecraft\", \"immediate\", \"green\", \"penalty\", \"assist\", \"attention\", \"muslim\", \"concern\", \"armenian\", \"village\", \"turk\", \"turkish\", \"occupy\", \"turkey\", \"escape\", \"armenia\", \"preach\", \"massacre\", \"genocide\", \"moslem\", \"soviet\", \"slaughter\", \"netcom\", \"kurd\", \"occupation\", \"republic\", \"services_gu\", \"holocaust\", \"survivor\", \"television\", \"serdar_argic\", \"longer_exist\", \"homeland\", \"remainder\", \"might_serve\", \"mountain_passe\", \"appressian\", \"melkonian\", \"greek\", \"soldier\", \"wwii\", \"proceed\", \"russian\", \"nazi\", \"troop\", \"kill\", \"woman\", \"close\", \"murder\", \"road\", \"david\", \"graphic\", \"display\", \"paul\", \"texas\", \"workstation\", \"wave\", \"russia\", \"bar\", \"consequence\", \"please_respond\", \"virginia\", \"amp\", \"expand\", \"saturday\", \"programmer\", \"soft\", \"austin\", \"impressive\", \"mix\", \"exposure\", \"scare\", \"scope\", \"platform\", \"kenneth\", \"harry\", \"winter\", \"thumb\", \"lance\", \"peripheral\", \"fi\", \"ken\", \"cold\", \"physical\", \"pin\", \"character\", \"wing\", \"motif\", \"medium\", \"processor\", \"richard\", \"insert\", \"kevin\", \"adam\", \"roger\", \"related\", \"receiver\", \"uk\", \"human_being\", \"speaker\", \"sys\", \"tel\", \"tip\", \"england\", \"kit\", \"qualified\", \"rom\", \"conservative\", \"positively\", \"ho\", \"deficit\", \"responce\", \"download\", \"obtain\", \"scsi\", \"ide\", \"circuit\", \"mb\", \"quadra\", \"dale\", \"stream\", \"voltage\", \"suitable\", \"bell_lab\", \"converter\", \"esdi\", \"acquisition\", \"checking\", \"synchronous\", \"scsi_controller\", \"changing_oil\", \"seattle_wa\", \"bare\", \"carrying\", \"stall\", \"mb_burst\", \"cradle\", \"grubb\", \"las_cruce\", \"churchill\", \"drive\", \"fasst\", \"interface\", \"device\", \"speed\", \"mac\", \"fast\", \"wide\", \"chip\", \"mode\", \"bit\", \"video\", \"route\", \"mhz\", \"md\", \"zone\", \"km\", \"radius\", \"rs\", \"pop\", \"recommendation\", \"suck\", \"paint\", \"variation\", \"axis\", \"n\", \"ducati\", \"smartdrv\", \"adjust\", \"minimal\", \"developer\", \"space_dig\", \"thick\", \"added_forwarde\", \"bk\", \"sez\", \"mate\", \"richardson_tx\", \"ns_simms\", \"circumference\", \"tom_mcwilliam\", \"apple\", \"multiple\", \"reflect\", \"fuzzy\", \"absurd\", \"judaism\", \"ibm_pc\", \"cart\", \"centris\", \"sleeve\", \"fpu\", \"promo_picture\", \"math_coprocessor\", \"christian_bauer\", \"doublespin\", \"bootable\", \"chung\", \"cd\", \"rodney_jack\", \"thompson\", \"capitol_picture\", \"sleeve_beach\", \"lc\", \"duo_dock\", \"morrow_stanford\", \"cupertino\", \"rolling_stone\", \"donpaul\", \"inexpencive\", \"hsiung\", \"mccartney\", \"keyboard\", \"ship\", \"ethernet\", \"noah\", \"vram\", \"manufacturer\", \"trivial\", \"allen\", \"click\", \"ms_window\", \"rude\", \"sphere\", \"hitachi\", \"exactly_fitting\", \"farin\", \"embarasse\", \"equi\", \"hyper\", \"specifie\", \"dietrijj\", \"keaggy\", \"hcrlgw\", \"straightforward\", \"mimic\", \"central\", \"sampler\", \"infinitely\", \"tokyo\", \"geometry\", \"computing_center\", \"researcher\", \"steven\", \"pentecostal\", \"krogh\", \"eigil\", \"timmer\", \"circle\", \"familiar\", \"p\", \"loss\", \"phil\", \"capable\"], \"Freq\": [50760.0, 8392.0, 17488.0, 19144.0, 2476.0, 8297.0, 14551.0, 4068.0, 2966.0, 11071.0, 14549.0, 5313.0, 5715.0, 4327.0, 9032.0, 6498.0, 2026.0, 10973.0, 1935.0, 2718.0, 2692.0, 2130.0, 7852.0, 3432.0, 3768.0, 1630.0, 9013.0, 4161.0, 7718.0, 2995.0, 11070.277680495761, 7851.702140591037, 4481.793150849541, 3044.2886408173968, 2877.47904617492, 2351.547022569737, 2295.801369020976, 2215.2651526229056, 2115.2628415839804, 2058.0019327907676, 1540.5097208350094, 1455.0961432337137, 1405.8754241962308, 1353.1969620511832, 1345.1250266310008, 1197.93265199839, 1096.8694622106307, 1027.7051964066309, 976.6053474497955, 974.7104780833617, 963.4425679022025, 960.6725586010107, 946.4449654428136, 899.6574582160081, 881.5566272243248, 881.0340909197348, 880.6429389827316, 879.0416503199104, 801.5626881322685, 798.4641512195374, 14253.435196142573, 3124.163133512322, 16938.044925173333, 7125.501659091671, 10577.579632788222, 2064.973707536985, 4789.522283536944, 13754.981312668431, 5869.373735361038, 2761.8463971029482, 3706.027016328348, 3057.291825039287, 17002.627878102896, 5911.7875436912245, 5850.806523210707, 6181.909001584365, 3980.1868428641856, 7644.306380871849, 6102.592325564819, 5933.701655893826, 3702.1996629846585, 6398.955443297093, 5024.404986806727, 5858.23340807084, 4110.088767952091, 3486.7519756170022, 3661.3195170489007, 3716.336887707282, 4255.202735259081, 3433.8252837175596, 3263.815512682046, 3019.703374812968, 2994.295879759445, 2812.0949420195707, 2230.0143060074492, 1836.4501037918983, 1609.4456033002186, 1600.4295495213566, 1473.8799794853703, 1372.8470829252115, 1323.6521012752664, 1296.4967548153725, 1220.8118261523425, 1141.8032526217617, 1119.2095709152027, 1031.6631541559038, 1006.1643297665447, 978.8333011814651, 850.4334060497908, 835.7195070896277, 826.7194903072369, 777.1510369089606, 774.5003116617052, 674.5707060960714, 639.7582827503828, 596.9240088025529, 596.5493138934735, 580.832151306606, 560.3881066609492, 509.92140025128066, 508.97734666522047, 1069.599258238001, 951.1953951554348, 820.6803379750465, 2853.959113587637, 2418.9692655832346, 1576.9030038844674, 1689.6233372967067, 1643.661305409975, 4119.7489161539725, 886.4653659632964, 2660.991461923034, 1294.1771890150244, 1908.918844524185, 3682.219786437115, 987.2736539683575, 1444.5188664769246, 1597.6235281613792, 1560.4300185599527, 1992.5683617454588, 1503.528399362802, 1327.8599554567347, 1377.3365358921756, 2136.283044880221, 1655.3282656450922, 1572.0496832461542, 1520.0124384362969, 1346.6836745295418, 4326.540178495071, 3431.0798602261716, 2994.7059925758645, 2376.074042694889, 2085.9987572417613, 1758.6276301590246, 1460.8822245674212, 1209.705903070442, 1093.6618577805525, 1049.7645861838762, 1029.2727090019487, 1015.8345874706854, 945.5714738042145, 944.1958638956215, 941.7753337697346, 685.9299141432347, 672.3372443755164, 619.6582807751798, 590.6158809235571, 574.2613253336017, 573.0929406660018, 557.8187425509386, 527.5870613687587, 518.4344971323209, 516.6611105373929, 503.71462653691447, 499.8554482358468, 498.0097069454291, 497.98210593643967, 492.40378529470394, 1341.8628427501287, 1652.6218193372465, 1531.5575249107246, 2948.5490951580728, 1976.6742080646484, 780.0463944366013, 916.1487111520544, 1393.0650653001017, 1050.5273143818176, 885.948244360167, 1464.840574948107, 3898.9021607940613, 1980.194250939805, 1572.8771931316185, 1672.821056168343, 1858.8466325913537, 1382.1765978579156, 1683.3501880770928, 1148.022872144808, 1302.7267887388434, 1301.9279267278716, 1367.9191529998682, 1340.2361246083321, 1249.9799545186102, 1139.2860644317914, 2057.399808189662, 1388.0080911799068, 1246.9395494208597, 1166.5313561422736, 1148.7881325565934, 1115.136526974717, 1093.3217249033164, 1068.0869754544365, 994.3770111845273, 981.4846451565674, 928.8167820633324, 797.1765695047072, 793.2006095243541, 713.5086544522303, 694.5105652400081, 672.2779706001099, 667.3816922945495, 647.6837320074139, 551.4845458723083, 535.1123240667005, 527.0489666505168, 502.88270113876524, 488.59302062163954, 475.5662718293795, 466.74513188478625, 465.9366425732272, 463.3749123950288, 435.30547756692005, 428.13726128554623, 409.8615577430717, 843.9516387470901, 646.3079532176552, 840.6825978887289, 612.9321220556407, 498.27453133545436, 895.6528230276666, 3076.4139727424313, 561.1211057080881, 1342.9832869620634, 1735.6583385270367, 5537.779020800774, 1098.3057122391895, 1822.275861281942, 918.5429221483715, 854.8970209253811, 2489.15220860095, 1856.309001145678, 879.255071629307, 1228.7733646988247, 1300.9867153273929, 925.0145172876518, 991.7525533873286, 949.677826741719, 1043.8646388125924, 982.6328503373189, 877.4697229926426, 50759.375746297876, 8391.39237937144, 4067.343893445462, 1719.908117475692, 1142.692368645042, 581.718889860324, 482.5586788948696, 435.6288836423754, 435.1366814463812, 423.08261707031227, 387.97979952951005, 375.6494322936834, 370.3051088175319, 318.50472112079234, 293.9795827001081, 240.84973397418358, 219.71113660506447, 216.98034199972003, 201.13095643089483, 195.70135975931277, 192.20352893806228, 190.60448549444146, 190.2389254626852, 181.53848402876076, 175.30943605919649, 175.04931055883623, 172.3978735473517, 169.41808040650616, 168.71584417311175, 167.28706542503923, 684.1721592756514, 282.4914039654479, 2717.283513358597, 2691.4664572162933, 1909.4412408393202, 1756.9083212555402, 1262.0906673975942, 1218.301603699678, 859.4057762814255, 827.3260877737347, 821.4815672449146, 813.018641498433, 739.8353270303196, 673.6256383910825, 672.7408231528406, 664.2530757410656, 642.9187843036738, 636.2433690468112, 625.6973165935439, 613.9106015817971, 588.1602624296817, 561.5573621806659, 547.8168525571438, 536.0312594285741, 525.9075258737877, 522.6803237383011, 480.57997469272044, 449.22947519129775, 446.60703820596865, 436.1373088675937, 430.8656148772328, 419.2553510539348, 695.1523327933476, 656.3000458985778, 2286.73167518246, 618.319041526226, 717.0880237313656, 730.496070287123, 692.0086057780074, 583.3630549055371, 1025.8238428182608, 664.9512524485745, 623.1546283219359, 537.831438736472, 537.0394816364727, 516.1618375793596, 512.8737622810642, 488.985673404782, 485.779904972191, 474.1360395888519, 439.34418983415424, 393.01163214758816, 369.8776333705353, 358.52666211754905, 347.92780910454275, 316.7327401684003, 312.5645218425651, 295.42817032584634, 258.51120403902695, 243.0803647093501, 231.818528797617, 218.21677150127482, 212.9550294159815, 200.33018231404543, 192.2775473306337, 187.75300673525805, 184.23499073894087, 182.29674438660732, 172.35996137452713, 172.33593390441465, 1175.6343156195198, 1450.1052919739066, 773.950519525103, 817.7042504726361, 332.0777853627743, 468.4199847840989, 380.6983205490938, 567.8575602968685, 504.09581173709887, 465.132785867692, 550.6619982288012, 573.7051454167357, 478.7702374680387, 559.3822901476789, 371.48049932887477, 2965.378535944681, 833.379003221442, 770.5343357328535, 654.8012762360502, 603.0025583380851, 600.3168055518263, 479.3888212503872, 463.088576484678, 458.8258047546928, 449.7907264809606, 440.88517091347063, 434.6443259095551, 376.5094643462611, 370.49493627293594, 300.4590804868327, 286.0944245735514, 259.50256781505317, 255.36434517503938, 247.6866119963154, 241.52988371233732, 231.85126122979716, 216.20542958957168, 215.91393393945984, 215.6310986421553, 208.74192710609452, 204.85826318976154, 189.23220428275266, 181.1924579225242, 200.31058672073672, 157.38107873289778, 1541.0064838720546, 692.673103403902, 356.17798186116147, 423.70612641128895, 718.4332358778341, 448.8813546556624, 516.0232613827984, 408.54939602147476, 575.8581954168556, 402.6734683735995, 419.0154497793439, 410.49898403858117, 395.2215999785322, 275.06663042134323, 2129.7842207263266, 1391.9175673741838, 1365.9056612987881, 1265.8250098519857, 971.4958049425438, 783.8786226036245, 759.0573905264482, 648.9161647459305, 591.50223712254, 585.1759082943222, 567.4445810204277, 478.07359199796014, 432.18691259516123, 421.21871453572834, 380.50462362508483, 376.6185037960424, 375.3277660931705, 352.2484962849013, 325.0373457905583, 309.1806767714112, 302.673172483121, 264.45418977612854, 253.07322084970104, 234.80751975810293, 233.3483813732252, 226.25715058032125, 220.86292777401448, 206.74336984223032, 203.6585358394558, 191.421640611967, 463.27089068111553, 546.7116660190579, 305.62301427412433, 379.64703175169336, 758.293685186543, 326.6507840897533, 311.4207260200711, 599.3701420806774, 274.9855712787126, 276.3139541503678, 2025.709056956662, 610.4037416863321, 504.3707650543277, 462.55393342671607, 452.91071533110545, 442.68516564529517, 431.56203477361197, 362.3957035609101, 313.65921454852116, 312.3449468435677, 309.3436181007398, 284.83589207967884, 265.11123642936064, 257.1389698828822, 236.91147297269188, 231.83528344516156, 226.02302127224465, 225.05107445788374, 200.76708878260746, 167.19507510872637, 159.411089648219, 150.87634685857847, 148.7539504426871, 143.03851755766706, 140.39858370779416, 130.69577659034505, 125.39359460590771, 121.95412683652287, 120.90681473210435, 120.58561312846501, 248.86448381222397, 557.5578622782084, 167.35972051827594, 251.47576069710163, 183.26388796647407, 271.685976101537, 155.66710428208057, 204.79172626182063, 192.77951707278757, 177.87362086028315, 1629.1263232529668, 568.3689280933726, 524.6368052820767, 515.1904697819374, 499.56342681722873, 424.54969478360766, 373.54386974101226, 352.7863996347421, 351.82534598688176, 348.4137804912426, 334.13501616895553, 323.04280908881464, 288.0410747878791, 278.952947477375, 274.9508259938323, 274.8764917670953, 263.2348429513248, 244.87081119785026, 197.5221063625809, 184.5016899233305, 180.8684019006386, 169.48702955787783, 155.52746075772052, 150.80861352456085, 148.98309378464927, 146.39983005433365, 144.98148436237, 138.57965177555508, 120.13542909464329, 116.97454959126802, 339.85862361239543, 444.93818207782516, 293.2419103531582, 354.74697553287575, 364.2943364531069, 276.89676547418713, 323.04432393671885, 248.92599502981287, 232.00702149754272, 793.7466113934092, 1932.744570997762, 493.47420651818817, 464.507395410856, 432.1793836853905, 360.3148315371204, 299.582783634999, 294.4270105365229, 293.0987084463851, 287.1263648050349, 279.2375666415129, 269.21833547846245, 260.8394961158341, 193.26431845840585, 191.99398088841454, 170.17748677482018, 170.01413970845138, 169.9579466697308, 163.59643327744664, 162.69696358342472, 155.1831839180504, 139.4310474868491, 135.72960914251814, 132.45095749897155, 130.439244652913, 126.54098648271145, 124.89746369186216, 124.33372062598805, 113.0583649415963, 111.72391416302075, 522.1332742243161, 360.5181399286791, 408.3098661908571, 952.7041939721939, 433.8201874582372, 187.8573245753858, 257.7967501819456, 231.5932853101127, 205.71775048829133, 215.230832330432, 168.7215144302872, 167.5639543115404, 540.1196703819877, 459.33665092156025, 395.28948616629833, 385.0721022162573, 379.84554351577543, 364.8843251300318, 326.1169569459254, 319.93309528743873, 318.580259238815, 249.48575361113453, 242.93543275600192, 238.15204501123748, 236.89602533462138, 233.3850246789772, 230.91752665334272, 219.54926801679883, 209.52815573189446, 197.83341831638734, 195.17028928854737, 192.01067699678666, 184.8872221341791, 176.09750976467757, 174.15584346676448, 172.07690750890234, 167.85258969488507, 167.63892860733014, 163.05654123028978, 158.2874768782014, 157.49241418058318, 155.49572713998356, 349.2205740785903, 217.39233897400285, 790.3067385799285, 574.0157452262313, 492.7583932137781, 402.5749289234068, 336.27260665275514, 315.0715614256441, 187.253614243466, 173.7824980325956, 163.07895968273573, 160.53134331265792, 156.30345133606954, 156.0395141467735, 142.63254241948624, 139.61025410425623, 123.76431184990643, 108.40060137686977, 100.71337540587848, 90.1797984960755, 86.05050946945055, 81.10695069743107, 69.88266205978033, 67.98030848487568, 66.06699211004873, 59.71429509413904, 59.30019867057631, 57.50278364483306, 57.250518206242916, 57.20788086862721, 57.10063909399316, 57.10063909399316, 609.7619152269456, 574.4327327856726, 117.93546375545648, 139.25983183595187, 153.73843281797633, 85.66796654320355, 92.68314867088351, 134.949798400766, 104.03493086750422, 113.08775512938209, 94.67126108253035, 93.54033587591069, 862.9070932029717, 766.120412097872, 673.2253971646104, 438.1555201077495, 339.1515927276727, 249.79232812236907, 213.38698358528725, 192.4365784691922, 183.67333633127538, 165.69834598148728, 157.51034305549223, 157.38273445834815, 154.11908518022997, 140.12636060494043, 136.98975712878126, 120.63799315828064, 102.86447306260821, 97.76743509211778, 97.278115945114, 96.98422221505308, 90.39108704429869, 84.8666895078255, 82.70159558666326, 80.52962826875026, 73.20527103168362, 72.85708841053128, 69.5360965563361, 63.36783527283048, 59.25520424699442, 57.48541141053307, 99.66880735841774, 97.57108210533288, 74.72217602059494, 843.4466442699793, 663.8795986830866, 437.0620762308811, 401.7335557903381, 369.9526889333032, 303.5090935061213, 271.54101788769526, 265.1585425571572, 162.9474035182044, 158.02320676549644, 157.89885996383367, 155.10132937778357, 151.95801343027748, 141.1873175738782, 139.7639821216528, 121.88970648415182, 116.2628229929582, 103.06760723353035, 97.97436184113059, 96.96880826121154, 94.26929081426186, 92.70942255399609, 90.27979047268225, 84.22591129948215, 83.03417436602572, 81.84436440674853, 81.12896162014448, 78.35121100298286, 75.65830173997942, 70.04114228558225, 111.65302520479221, 490.30656673225985, 312.9245363942045, 217.3593584537354, 184.26670987223127, 130.87348407253157, 107.65454726255764, 104.43668429045046, 77.28630112330669, 72.24346431387823, 54.79824777309369, 45.913367606501566, 37.85515757465638, 31.6037659420651, 27.546421665406534, 22.787490124377825, 21.778303325167073, 21.555489931492165, 20.331335243606453, 17.75025173831172, 15.60332999619239, 11.065490605337706, 7.574754448939297, 7.153506832203439, 6.783688814430068, 6.725172231979856, 4.995642836657287, 1875.7722692626462, 2.0353110639046728, 102.07027245168032, 145.30952176415002, 74.1736548567708, 65.27153771605678, 51.36471404200213, 27.54257077745191, 45.47685184126742, 27.137207416231202, 22.121440754081412, 493.5691476726149, 257.7926341949703, 254.0182815679682, 203.64772197783142, 153.66397013844278, 115.13668540379365, 91.2205633763145, 89.92079141519514, 88.48374810207304, 73.33881683650638, 64.74666887957194, 61.241455878137685, 54.06554840705558, 37.71299741392094, 35.14320455806119, 33.79395395491356, 33.23199966242895, 32.036251590507526, 28.388432428577076, 28.086354993165468, 27.99307386732319, 26.93094958181664, 23.573682425796616, 17.83601421096551, 14.18839863976139, 9.7772294596343, 8.158942854941223, 5.503457808996014, 5.390510062811748, 5.342345617208518, 184.37340465709303, 79.3763452552992, 45.43157501317782, 18.244959155230852, 15.3285971242102, 9.719206508778754, 7.652537920588254, 6.580130125497925, 0.020853130982656735, 0.020852420102407017, 0.020852336074008705, 0.02085220330913937, 0.020852094072221564, 0.02085191257088121, 0.020851910890313245, 0.02085190416804138, 0.020851907529177312, 0.020852850327806375, 0.02085176131976425, 0.020851899126337482, 0.02085176972260408, 0.02085176972260408, 0.02085180501453137, 0.020851694097045598, 0.020851557971040335, 0.02085152435968101, 0.020851554609904403, 0.020851517637409143, 0.020851517637409143, 0.020851515956841177, 0.020851554609904403, 0.02085205205802241, 0.020851961307352233, 0.020851956265648335, 0.02085159158239966, 0.020851673930230005, 0.020851697458181533, 23.43380600962532, 16.88695569706502, 14.465165718789985, 12.718543513887608, 3.4576262729768557, 0.010147926434764644, 0.010147234447586934, 0.010146930578087462, 0.010146930578087462, 0.010146930578087462, 0.010146911856269957, 0.010146911856269957, 0.010146911856269957, 0.010146811766553307, 0.010146811766553307, 0.010146911856269957, 0.010146930578087462, 0.010146811766553307, 0.010147234447586934, 0.010146811766553307, 0.010146829048231002, 0.010146911856269957, 0.01014693201822727, 0.010146811766553307, 0.010146912576339862, 0.010147239488076262, 0.010146736879283294, 0.010146677833551169, 0.010146677833551169, 0.010146703756067712, 0.01014693561857679, 0.010146813926763018, 0.0101467743229183, 0.010146931298157365, 0.010146834808790233, 0.01014681248662321], \"Total\": [50760.0, 8392.0, 17488.0, 19144.0, 2476.0, 8297.0, 14551.0, 4068.0, 2966.0, 11071.0, 14549.0, 5313.0, 5715.0, 4327.0, 9032.0, 6498.0, 2026.0, 10973.0, 1935.0, 2718.0, 2692.0, 2130.0, 7852.0, 3432.0, 3768.0, 1630.0, 9013.0, 4161.0, 7718.0, 2995.0, 11071.468864925448, 7852.893325020722, 4482.984335279226, 3045.4798252470837, 2878.670230604607, 2352.7382069994237, 2296.992553450663, 2216.4563370525925, 2116.4540260136673, 2059.1931172204545, 1541.7009052646956, 1456.2873276634, 1407.066608625917, 1354.3881464808694, 1346.316211060687, 1199.1238364280762, 1098.0606466447744, 1028.8963808363171, 977.7965318794814, 975.9016625130477, 964.6337523318884, 961.8637430306966, 947.636149876957, 900.848642645694, 882.7478116540107, 882.2252753494207, 881.8341234124175, 880.2328347640427, 802.7538725709078, 799.6553356492233, 14551.115050651752, 3168.3571737377515, 17488.589472645515, 7309.149692294038, 10973.785177053065, 2086.3700197216804, 4929.409415258785, 14549.422581482208, 6152.919624915996, 2835.5067305666016, 3904.9162423829807, 3204.4357547479863, 19144.74171296684, 6587.148813718401, 6617.914998167877, 7068.169923976933, 4382.638163023099, 9013.351027271008, 7112.865007491501, 6918.960979615382, 4229.157708755883, 8490.559122315692, 6327.458406938668, 7718.205534061483, 4937.789039684356, 4417.053164510063, 4912.42496498031, 5101.3375685725, 9032.625484693575, 4737.6775658556935, 4594.103812958887, 3020.8898311491, 2995.482336095577, 2813.2813983557025, 2231.2007623535696, 1837.6365601280293, 1610.6320596363496, 1601.6160058574876, 1475.0664358215013, 1374.0335392613424, 1324.8385576113974, 1297.6832111782503, 1221.998282499391, 1142.9897089578926, 1120.3960272513336, 1032.8496104972437, 1007.3507861026754, 980.0197575210192, 851.6198623859216, 836.9059634291817, 827.9059467005728, 778.3374932499289, 775.6867679978359, 675.7571624322021, 640.9447390865136, 598.1104651386836, 597.7357702296042, 582.0186076469823, 561.5745630005033, 511.10785658741145, 510.16380300135125, 1079.6646748517906, 966.3359848179767, 831.0359181380732, 3006.369891520577, 2535.910000819187, 1643.3184770148284, 1769.9838478794345, 1732.120183578433, 5715.388495995683, 914.7465087938316, 3626.4353863232072, 1523.7251447163162, 2583.639935470342, 6498.460548938513, 1065.727446718942, 1938.6934053977725, 2286.3547341164185, 2229.3321403688446, 3479.2979222402864, 2474.466851481602, 2128.2210283498466, 2481.27728620818, 19144.74171296684, 6187.399476676676, 4941.6895126365, 4438.757035375173, 5101.3375685725, 4327.74105088121, 3432.3003622423507, 2995.906864962005, 2377.2749150810296, 2087.1996903308896, 1759.8285025451648, 1462.0830969535614, 1210.9067754565822, 1094.8627301666927, 1050.9654585700164, 1030.4735813880889, 1017.0354598568251, 946.7723461903543, 945.3967362817613, 942.9762061558744, 687.1307865293744, 673.5381167616562, 620.8591531613196, 591.8167533144766, 575.4621977197414, 574.2938130521416, 559.0196149370784, 528.7879337816682, 519.6353695271638, 517.861982937204, 504.9154989230544, 501.0563206219867, 499.210579331569, 499.1829783541913, 493.60465768605275, 1376.2506937748494, 1760.2312311608762, 1648.26199014738, 3458.3360909136204, 2243.2477234592216, 826.1622079481677, 992.6333310119012, 1649.3525433664518, 1256.4542117239992, 1010.8159943481694, 1973.3127680778205, 9032.625484693575, 3937.1192333300382, 3178.132423616256, 3596.3831097613247, 7718.205534061483, 4108.112795752692, 8297.544049924652, 2350.03675579355, 4737.6775658556935, 6327.458406938668, 9013.351027271008, 8490.559122315692, 4912.42496498031, 4594.103812958887, 2058.591743854697, 1389.2000268449415, 1248.1314850858944, 1167.7232918073082, 1149.980068221628, 1116.3284626397517, 1094.513660568351, 1069.2789111247853, 995.5689468495616, 982.6765808269159, 930.0087177283667, 798.3685127822289, 794.3925451893884, 714.7005901172646, 695.7025009050424, 673.4699062745989, 668.5736279595837, 648.8756676724482, 552.6764815514321, 536.3042597402941, 528.2409023208654, 504.0746368037997, 489.784956286674, 476.75820749972826, 467.9370675498207, 467.12857823826164, 464.56684806006325, 436.49741323537796, 429.3291969557896, 411.0534934081062, 860.5546648488529, 655.3796851926527, 861.9262290360614, 622.7866509480808, 502.1170724760376, 954.0445755771342, 3768.9801126647367, 573.2554035263125, 1535.6294555329207, 2070.031452587839, 8297.544049924652, 1251.9688677518357, 2278.663085605164, 1022.5002841104954, 975.6582881895242, 4161.1489932155855, 3074.0228122716694, 1025.9044984137365, 1822.4332654544937, 3215.911222108331, 1631.269700179014, 2350.03675579355, 2044.622860203551, 4108.112795752692, 5313.130142962938, 9032.625484693575, 50760.50561087425, 8392.52224400821, 4068.4737580218234, 1721.0379821091835, 1143.8222332552136, 582.8487544699401, 483.68854355141787, 436.7587482686167, 436.26654612657376, 424.2124818430659, 389.1096642461367, 376.7792970112919, 371.43497362623935, 319.63458589897436, 295.10944735590965, 241.9795989462753, 220.8410014001127, 218.11020669895822, 202.26082107630643, 196.8312244150276, 193.33339365598624, 191.73435031483513, 191.3687902774376, 182.66834882781993, 176.43930123849503, 176.17917532364916, 173.5277381717325, 170.5479453324314, 169.84570882798937, 168.4169301632777, 1290.545512897052, 6152.919624915996, 2718.473277352905, 2692.6562212106014, 1910.6310048336277, 1758.0980852546274, 1263.2804313919016, 1219.4913677037612, 860.5955402757327, 828.5158517777085, 822.6713313168433, 814.2084054927402, 741.0250910446405, 674.815402388813, 673.9305871471478, 665.4428397353728, 644.1085483269553, 637.4331330411184, 626.8870805878511, 615.1003655931988, 589.350026429519, 562.7471261749731, 549.006616551451, 537.2210234228813, 527.0972898680949, 523.8700877411122, 481.76973869234206, 450.4192391856051, 447.796802200276, 437.327072861901, 432.05537887154014, 420.44511504824214, 721.1723816674455, 719.1906493705243, 5313.130142962938, 1387.3202548967465, 2409.0101924085634, 3479.2979222402864, 4152.068899738487, 1818.4742338160365, 1027.0185542330878, 666.1459638634012, 624.3493397465384, 539.0261501512988, 538.2341930566138, 517.3565489941864, 514.0684736958909, 490.1803848414834, 486.9746163870179, 475.33075100367876, 440.5389012489811, 394.20634356241504, 371.0723447906765, 359.72137353237594, 349.1225205328251, 317.9274515917865, 313.7592332627063, 296.62288175401227, 259.7059154672507, 244.27507613273625, 233.01324021244383, 219.4114829450137, 214.1497408651617, 201.5248937542002, 193.47225876382856, 188.94771815008488, 185.4297021537677, 183.49145580143414, 173.55467278935396, 173.53064532780078, 1190.4054508886738, 1503.211975665843, 794.0424198449533, 947.6163572328701, 362.778437359784, 565.7346734359926, 450.5033454082919, 776.3130511928983, 815.6532037885132, 768.0771412112382, 1145.7729814542963, 1648.1328198326908, 1160.5567163821108, 2474.466851481602, 797.709092297703, 2966.574937413226, 834.5754046899862, 771.7307372013977, 655.9976777045944, 604.1989598066293, 601.5132070327473, 480.58522271893156, 464.2849779532224, 460.02220622323716, 450.98712795471386, 442.081572382015, 435.8407273815229, 377.70586581480546, 371.69133775071754, 301.65548195537707, 287.2908260555068, 260.6989697543221, 256.5607466574573, 248.88301347038976, 242.72628518609056, 233.04766269834144, 217.40183107739773, 217.11033542765364, 216.8275001106996, 209.93832861682364, 206.05466465830582, 190.42860575129694, 182.38885939106848, 201.68641990141998, 158.57748021000137, 1587.6372162600396, 866.3074586493747, 426.8032756632396, 678.9918586341364, 1650.8061497308743, 1634.6584574035223, 2481.27728620818, 1600.3518794723695, 5715.388495995683, 1945.9093517145166, 2278.663085605164, 2474.466851481602, 6498.460548938513, 1216.8776680743383, 2130.983051699792, 1393.1163983476488, 1367.104492272253, 1267.0238408254506, 972.6946359194321, 785.0774535916411, 760.2562215041589, 650.1149957342001, 592.7010681059937, 586.3747393004675, 568.6434119938926, 479.2724229848807, 433.3857435686263, 422.4175455326375, 381.7034545985499, 377.81733476950745, 376.5265970800466, 353.4473272583664, 326.2361767803677, 310.3795077534355, 303.87200346425516, 265.65302076719126, 254.27205186293423, 236.00635073156795, 234.54721234669023, 227.45598155931634, 222.06175875603878, 207.9422008376547, 204.85736682298887, 192.62047158543203, 466.8969458572681, 581.0122246407495, 363.8367341192367, 502.9943702196963, 1739.391993457262, 452.3836019097057, 419.19582657613313, 2476.298721394962, 340.3308694184941, 357.0682778927995, 2026.9099190674174, 611.6046038252474, 505.57162716508327, 463.75479553747164, 454.111577441861, 443.88602775605074, 432.76289688436754, 363.59656567166564, 314.86007666904857, 313.54580895432326, 310.54448021149534, 286.0367541904344, 266.31209854989197, 258.33983199363774, 238.11233508344742, 233.0361455559171, 227.22388338300019, 226.25193661497067, 201.96795091301252, 168.3959372194819, 160.61195183592557, 152.07720902899317, 149.95481255344265, 144.2393796684226, 141.59944584528964, 131.89663870110058, 126.59445673146797, 123.15498895100254, 122.10767684285993, 121.7864752392206, 292.32774475515816, 1029.8345946983675, 216.81442222324588, 514.6011942238553, 304.5787173639833, 1648.1328198326908, 216.00424779816709, 1256.4542117239992, 1284.311202744889, 956.4125148651171, 1630.3279703976607, 569.5705752380667, 525.8384524267708, 516.3921169266315, 500.7650739619228, 425.7513419558435, 374.74551692757524, 353.98804677943616, 353.0269931315758, 349.6154277037482, 335.33666333177837, 324.24445627538205, 289.2427219378875, 280.1545946406964, 276.15247316183104, 276.0781389301734, 264.4364901246598, 246.07245835178162, 198.72375351880922, 185.70333709111736, 182.07004905542672, 170.6886767025719, 156.72910802570289, 152.01026067371245, 150.18474095499732, 147.60147719902773, 146.18313151859832, 139.78129892024916, 121.33707624358306, 118.17619675447402, 390.52850505732965, 606.6349213858001, 496.0639261944202, 758.0513647541949, 981.0255936528728, 576.3193689684175, 809.0753720920638, 898.4561258181351, 1634.6584574035223, 794.9475769227229, 1935.7383592627764, 494.6751720161428, 465.7083609088107, 433.3803491833452, 361.5157970393208, 300.7837491381626, 295.62797603447757, 294.29967394433976, 288.32733030298954, 280.43853214392504, 270.4193009764171, 262.04046161378875, 194.46528395636048, 193.19494640306965, 171.3784522727748, 171.21510521065167, 171.15891216768543, 164.79739877964693, 163.89792908669364, 156.38414942545964, 140.63201298480374, 136.9305746606122, 133.65192299692617, 131.64021018030147, 127.7419519806661, 126.09842922873794, 125.5346861239427, 114.25933045625142, 112.9248796609754, 634.1004360221037, 448.00119714662003, 557.0549248345591, 1634.6584574035223, 629.85790016306, 222.78488788892358, 384.2282221040772, 344.3975535186496, 316.81610823845847, 604.9277961007361, 727.7210685108078, 1448.280235096455, 541.3245508184498, 460.5415313523281, 396.4943665891852, 386.27698265301774, 381.0504239386623, 366.08920556301274, 327.3218373688122, 321.13797574391737, 319.78513966170186, 250.69063403402137, 244.14031318898282, 239.3569254668565, 238.10090575750823, 234.58990510186405, 232.12240708632362, 220.75414844499997, 210.73303616334059, 199.0382987602704, 196.37516971664317, 193.2155574196735, 186.09210255706594, 177.3023901928787, 175.36072390118557, 173.28178793710347, 169.05747012338244, 168.84380909834866, 164.2614216617359, 159.49235730964753, 158.6972947142791, 156.70060757235686, 419.25204348745865, 604.9277961007361, 791.5066821358391, 575.2156887869216, 493.95833676968886, 403.77487247931754, 337.4725502407782, 316.27150498155487, 188.45355779937665, 174.98244158850628, 164.27890329081484, 161.7312868685686, 157.5033948919802, 157.2394577229301, 143.83248598100744, 140.8101976601669, 124.96425541006279, 109.60054493278045, 101.91331900773558, 91.37974205198618, 87.25045302536122, 82.30689425334175, 71.08260561569101, 69.18025206236246, 67.26693566595941, 60.914238650049725, 60.50014222648699, 58.70272762180483, 58.4504617621536, 58.40782442453789, 58.300582649903845, 58.300582649903845, 681.1895162781485, 679.9129803003876, 126.70013148063589, 169.72935275292406, 302.7810569218991, 148.48000268390757, 187.2583640682738, 1535.6294555329207, 696.155631806353, 1215.805960519444, 637.5601429817933, 696.9058706496421, 864.1141597610466, 767.3274786559468, 674.4324637226853, 439.3625866658244, 340.3586592857476, 250.99939469364307, 214.59405014867636, 193.6436450358263, 184.88040289488026, 166.9054126076543, 158.71740962723828, 158.58980104035567, 155.3261517383048, 141.33342717778416, 138.19682370996694, 121.84505971635548, 104.07153962068305, 98.97450165019262, 98.48518252472687, 98.19128880160108, 91.5981536509427, 86.07375608413558, 83.90866214994706, 81.73669483107078, 74.41233758975847, 74.06415497338588, 70.74316312116544, 64.57490183946462, 60.462270835180725, 58.692478093911284, 122.87088424075816, 152.9972958930004, 205.56254747962015, 844.6634852319547, 665.0964395988473, 438.27891714321845, 402.9503967112347, 371.16952984564057, 304.7259344184587, 272.7578588055627, 266.3753834694946, 164.16424444566476, 159.24004768639307, 159.1157008900446, 156.3181702986802, 153.1748543935028, 142.40415848621555, 140.98082303399013, 123.10654746062107, 117.47966390529557, 104.28444815139778, 99.19120275346795, 98.1856491735489, 95.48613172659923, 93.92626346633345, 91.49663166363341, 85.44275221181951, 84.25101527836308, 83.0612054683116, 82.34580262454762, 79.56805192512896, 76.8751429991668, 71.25798319791961, 344.3975535186496, 491.530609226968, 314.14857888891265, 218.58340094844357, 185.49075250448595, 132.09752656723973, 108.87858979189396, 105.66072685650165, 78.51034361801484, 73.46750682835085, 56.02229027333191, 47.13741010120973, 39.079200069364546, 32.827808517006076, 28.77046425968959, 24.011532619085987, 23.002345819875234, 22.779532426200326, 21.555377738314615, 18.974294238048845, 16.8273725401371, 12.289533100045865, 8.798796943647456, 8.377549373404728, 8.00773130913823, 7.949214726688018, 6.219685331365447, 2476.298721394962, 3.259353558612834, 380.6780531517209, 717.6851946804986, 969.9563802557427, 1643.3184770148284, 1114.205443503123, 329.6501023297616, 1587.6372162600396, 914.7465087938316, 2481.27728620818, 494.79545352313863, 259.0189401086009, 255.24458742191524, 204.87402784242548, 154.890276074985, 116.36299133291531, 92.4468692440131, 91.14709727103309, 89.71005395259668, 74.56512272370523, 65.97297473351901, 62.46776173311885, 55.29185429500783, 38.939303306562046, 36.369510417144134, 35.02025980543722, 34.45830551848266, 33.26255744548869, 29.6147384209975, 29.312660852248413, 29.219379723457376, 28.157255432340296, 24.79998827632027, 19.062320208860456, 15.414704490285043, 11.003535310157954, 9.385248705464875, 6.7297636595196675, 6.616815913335401, 6.568651467732171, 185.61911695092394, 80.62205755890585, 46.67728736645603, 19.49067144906177, 16.574309448059804, 10.964918807389433, 8.898250223372655, 7.825842419328842, 1.2665897061765403, 1.2665759736814706, 1.2665766126495874, 1.2665722243959188, 1.266570919996499, 1.2665663401741116, 1.2665663305977404, 1.2665664453700227, 1.266569753819169, 1.266631158348222, 1.2665660637726908, 1.2665749685868128, 1.2665686911051293, 1.2665686911051293, 1.2665732787484045, 1.266567731519641, 1.2665662665419333, 1.2665645851024614, 1.2665670567878502, 1.266564878541821, 1.266564878541821, 1.2665648638825102, 1.2665676836019, 1.2666050772406598, 1.2666011825173333, 1.266606259911862, 1.266571393714658, 1.2665862761554858, 1.2665912716201424, 24.690222861380594, 18.14337252505499, 15.721582546779956, 13.97496034671514, 4.714043163872189, 1.26664454898612, 1.266590093064976, 1.2665766764516078, 1.2665766764516078, 1.266577135489714, 1.2665755546683164, 1.2665762242301422, 1.266576262944396, 1.2665641988437526, 1.266564217947544, 1.2665767612735814, 1.2665795030300757, 1.2665648551383784, 1.2666181237307146, 1.2665655851399589, 1.2665683974580078, 1.2665790766319054, 1.2665835478189944, 1.2665687377750734, 1.2665855749755077, 1.266631697803423, 1.2665714542397248, 1.2665641979579525, 1.2665641979579525, 1.2665675577246123, 1.2665996779504678, 1.2665832917246567, 1.2665779078126376, 1.2666165503685836, 1.266600642697869, 1.266618693226325], \"Category\": [\"Default\", \"Default\", \"Default\", \"Default\", \"Default\", \"Default\", \"Default\", \"Default\", \"Default\", \"Default\", \"Default\", \"Default\", \"Default\", \"Default\", \"Default\", \"Default\", \"Default\", \"Default\", \"Default\", \"Default\", \"Default\", \"Default\", \"Default\", \"Default\", \"Default\", \"Default\", \"Default\", \"Default\", \"Default\", \"Default\", \"Topic1\", \"Topic1\", \"Topic1\", \"Topic1\", \"Topic1\", \"Topic1\", \"Topic1\", \"Topic1\", \"Topic1\", \"Topic1\", \"Topic1\", \"Topic1\", \"Topic1\", \"Topic1\", \"Topic1\", \"Topic1\", \"Topic1\", \"Topic1\", \"Topic1\", \"Topic1\", \"Topic1\", \"Topic1\", \"Topic1\", \"Topic1\", \"Topic1\", \"Topic1\", \"Topic1\", \"Topic1\", \"Topic1\", \"Topic1\", \"Topic1\", \"Topic1\", \"Topic1\", \"Topic1\", \"Topic1\", \"Topic1\", \"Topic1\", \"Topic1\", \"Topic1\", \"Topic1\", \"Topic1\", \"Topic1\", \"Topic1\", \"Topic1\", \"Topic1\", \"Topic1\", \"Topic1\", \"Topic1\", \"Topic1\", \"Topic1\", \"Topic1\", \"Topic1\", \"Topic1\", \"Topic1\", \"Topic1\", \"Topic1\", \"Topic1\", \"Topic1\", \"Topic1\", \"Topic1\", \"Topic1\", \"Topic2\", \"Topic2\", \"Topic2\", \"Topic2\", \"Topic2\", \"Topic2\", \"Topic2\", \"Topic2\", \"Topic2\", \"Topic2\", \"Topic2\", \"Topic2\", \"Topic2\", \"Topic2\", \"Topic2\", \"Topic2\", \"Topic2\", \"Topic2\", \"Topic2\", \"Topic2\", \"Topic2\", \"Topic2\", \"Topic2\", \"Topic2\", \"Topic2\", \"Topic2\", \"Topic2\", \"Topic2\", \"Topic2\", \"Topic2\", \"Topic2\", \"Topic2\", \"Topic2\", \"Topic2\", \"Topic2\", \"Topic2\", \"Topic2\", \"Topic2\", \"Topic2\", \"Topic2\", \"Topic2\", \"Topic2\", \"Topic2\", \"Topic2\", \"Topic2\", \"Topic2\", \"Topic2\", \"Topic2\", \"Topic2\", \"Topic2\", \"Topic2\", \"Topic2\", \"Topic2\", \"Topic2\", \"Topic2\", \"Topic2\", \"Topic2\", \"Topic3\", \"Topic3\", \"Topic3\", \"Topic3\", \"Topic3\", \"Topic3\", \"Topic3\", \"Topic3\", \"Topic3\", \"Topic3\", \"Topic3\", \"Topic3\", \"Topic3\", \"Topic3\", \"Topic3\", \"Topic3\", \"Topic3\", \"Topic3\", \"Topic3\", \"Topic3\", \"Topic3\", \"Topic3\", \"Topic3\", \"Topic3\", \"Topic3\", \"Topic3\", \"Topic3\", \"Topic3\", \"Topic3\", \"Topic3\", \"Topic3\", \"Topic3\", \"Topic3\", \"Topic3\", \"Topic3\", \"Topic3\", \"Topic3\", \"Topic3\", \"Topic3\", \"Topic3\", \"Topic3\", \"Topic3\", \"Topic3\", \"Topic3\", \"Topic3\", \"Topic3\", \"Topic3\", \"Topic3\", \"Topic3\", \"Topic3\", \"Topic3\", \"Topic3\", \"Topic3\", \"Topic3\", \"Topic3\", \"Topic4\", \"Topic4\", \"Topic4\", \"Topic4\", \"Topic4\", \"Topic4\", \"Topic4\", \"Topic4\", \"Topic4\", \"Topic4\", \"Topic4\", \"Topic4\", \"Topic4\", \"Topic4\", \"Topic4\", \"Topic4\", \"Topic4\", \"Topic4\", \"Topic4\", \"Topic4\", \"Topic4\", \"Topic4\", \"Topic4\", \"Topic4\", \"Topic4\", \"Topic4\", \"Topic4\", \"Topic4\", \"Topic4\", \"Topic4\", \"Topic4\", \"Topic4\", \"Topic4\", \"Topic4\", \"Topic4\", \"Topic4\", \"Topic4\", \"Topic4\", \"Topic4\", \"Topic4\", \"Topic4\", \"Topic4\", \"Topic4\", \"Topic4\", \"Topic4\", \"Topic4\", \"Topic4\", \"Topic4\", \"Topic4\", \"Topic4\", \"Topic4\", \"Topic4\", \"Topic4\", \"Topic4\", \"Topic4\", \"Topic4\", \"Topic5\", \"Topic5\", \"Topic5\", \"Topic5\", \"Topic5\", \"Topic5\", \"Topic5\", \"Topic5\", \"Topic5\", \"Topic5\", \"Topic5\", \"Topic5\", \"Topic5\", \"Topic5\", \"Topic5\", \"Topic5\", \"Topic5\", \"Topic5\", \"Topic5\", \"Topic5\", \"Topic5\", \"Topic5\", \"Topic5\", \"Topic5\", \"Topic5\", \"Topic5\", \"Topic5\", \"Topic5\", \"Topic5\", \"Topic5\", \"Topic5\", \"Topic5\", \"Topic6\", \"Topic6\", \"Topic6\", \"Topic6\", \"Topic6\", \"Topic6\", \"Topic6\", \"Topic6\", \"Topic6\", \"Topic6\", \"Topic6\", \"Topic6\", \"Topic6\", \"Topic6\", \"Topic6\", \"Topic6\", \"Topic6\", \"Topic6\", \"Topic6\", \"Topic6\", \"Topic6\", \"Topic6\", \"Topic6\", \"Topic6\", \"Topic6\", \"Topic6\", \"Topic6\", \"Topic6\", \"Topic6\", \"Topic6\", \"Topic6\", \"Topic6\", \"Topic6\", \"Topic6\", \"Topic6\", \"Topic6\", \"Topic6\", \"Topic6\", \"Topic7\", \"Topic7\", \"Topic7\", \"Topic7\", \"Topic7\", \"Topic7\", \"Topic7\", \"Topic7\", \"Topic7\", \"Topic7\", \"Topic7\", \"Topic7\", \"Topic7\", \"Topic7\", \"Topic7\", \"Topic7\", \"Topic7\", \"Topic7\", \"Topic7\", \"Topic7\", \"Topic7\", \"Topic7\", \"Topic7\", \"Topic7\", \"Topic7\", \"Topic7\", \"Topic7\", \"Topic7\", \"Topic7\", \"Topic7\", \"Topic7\", \"Topic7\", \"Topic7\", \"Topic7\", \"Topic7\", \"Topic7\", \"Topic7\", \"Topic7\", \"Topic7\", \"Topic7\", \"Topic7\", \"Topic7\", \"Topic7\", \"Topic7\", \"Topic7\", \"Topic8\", \"Topic8\", \"Topic8\", \"Topic8\", \"Topic8\", \"Topic8\", \"Topic8\", \"Topic8\", \"Topic8\", \"Topic8\", \"Topic8\", \"Topic8\", \"Topic8\", \"Topic8\", \"Topic8\", \"Topic8\", \"Topic8\", \"Topic8\", \"Topic8\", \"Topic8\", \"Topic8\", \"Topic8\", \"Topic8\", \"Topic8\", \"Topic8\", \"Topic8\", \"Topic8\", \"Topic8\", \"Topic8\", \"Topic8\", \"Topic8\", \"Topic8\", \"Topic8\", \"Topic8\", \"Topic8\", \"Topic8\", \"Topic8\", \"Topic8\", \"Topic8\", \"Topic8\", \"Topic8\", \"Topic8\", \"Topic8\", \"Topic8\", \"Topic9\", \"Topic9\", \"Topic9\", \"Topic9\", \"Topic9\", \"Topic9\", \"Topic9\", \"Topic9\", \"Topic9\", \"Topic9\", \"Topic9\", \"Topic9\", \"Topic9\", \"Topic9\", \"Topic9\", \"Topic9\", \"Topic9\", \"Topic9\", \"Topic9\", \"Topic9\", \"Topic9\", \"Topic9\", \"Topic9\", \"Topic9\", \"Topic9\", \"Topic9\", \"Topic9\", \"Topic9\", \"Topic9\", \"Topic9\", \"Topic9\", \"Topic9\", \"Topic9\", \"Topic9\", \"Topic9\", \"Topic9\", \"Topic9\", \"Topic9\", \"Topic9\", \"Topic9\", \"Topic10\", \"Topic10\", \"Topic10\", \"Topic10\", \"Topic10\", \"Topic10\", \"Topic10\", \"Topic10\", \"Topic10\", \"Topic10\", \"Topic10\", \"Topic10\", \"Topic10\", \"Topic10\", \"Topic10\", \"Topic10\", \"Topic10\", \"Topic10\", \"Topic10\", \"Topic10\", \"Topic10\", \"Topic10\", \"Topic10\", \"Topic10\", \"Topic10\", \"Topic10\", \"Topic10\", \"Topic10\", \"Topic10\", \"Topic10\", \"Topic10\", \"Topic10\", \"Topic10\", \"Topic10\", \"Topic10\", \"Topic10\", \"Topic10\", \"Topic10\", \"Topic10\", \"Topic10\", \"Topic11\", \"Topic11\", \"Topic11\", \"Topic11\", \"Topic11\", \"Topic11\", \"Topic11\", \"Topic11\", \"Topic11\", \"Topic11\", \"Topic11\", \"Topic11\", \"Topic11\", \"Topic11\", \"Topic11\", \"Topic11\", \"Topic11\", \"Topic11\", \"Topic11\", \"Topic11\", \"Topic11\", \"Topic11\", \"Topic11\", \"Topic11\", \"Topic11\", \"Topic11\", \"Topic11\", \"Topic11\", \"Topic11\", \"Topic11\", \"Topic11\", \"Topic11\", \"Topic11\", \"Topic11\", \"Topic11\", \"Topic11\", \"Topic11\", \"Topic11\", \"Topic11\", \"Topic12\", \"Topic12\", \"Topic12\", \"Topic12\", \"Topic12\", \"Topic12\", \"Topic12\", \"Topic12\", \"Topic12\", \"Topic12\", \"Topic12\", \"Topic12\", \"Topic12\", \"Topic12\", \"Topic12\", \"Topic12\", \"Topic12\", \"Topic12\", \"Topic12\", \"Topic12\", \"Topic12\", \"Topic12\", \"Topic12\", \"Topic12\", \"Topic12\", \"Topic12\", \"Topic12\", \"Topic12\", \"Topic12\", \"Topic12\", \"Topic12\", \"Topic12\", \"Topic12\", \"Topic12\", \"Topic12\", \"Topic12\", \"Topic12\", \"Topic12\", \"Topic12\", \"Topic12\", \"Topic12\", \"Topic12\", \"Topic13\", \"Topic13\", \"Topic13\", \"Topic13\", \"Topic13\", \"Topic13\", \"Topic13\", \"Topic13\", \"Topic13\", \"Topic13\", \"Topic13\", \"Topic13\", \"Topic13\", \"Topic13\", \"Topic13\", \"Topic13\", \"Topic13\", \"Topic13\", \"Topic13\", \"Topic13\", \"Topic13\", \"Topic13\", \"Topic13\", \"Topic13\", \"Topic13\", \"Topic13\", \"Topic13\", \"Topic13\", \"Topic13\", \"Topic13\", \"Topic13\", \"Topic13\", \"Topic14\", \"Topic14\", \"Topic14\", \"Topic14\", \"Topic14\", \"Topic14\", \"Topic14\", \"Topic14\", \"Topic14\", \"Topic14\", \"Topic14\", \"Topic14\", \"Topic14\", \"Topic14\", \"Topic14\", \"Topic14\", \"Topic14\", \"Topic14\", \"Topic14\", \"Topic14\", \"Topic14\", \"Topic14\", \"Topic14\", \"Topic14\", \"Topic14\", \"Topic14\", \"Topic14\", \"Topic14\", \"Topic14\", \"Topic14\", \"Topic14\", \"Topic14\", \"Topic14\", \"Topic14\", \"Topic14\", \"Topic14\", \"Topic14\", \"Topic14\", \"Topic14\", \"Topic14\", \"Topic14\", \"Topic14\", \"Topic15\", \"Topic15\", \"Topic15\", \"Topic15\", \"Topic15\", \"Topic15\", \"Topic15\", \"Topic15\", \"Topic15\", \"Topic15\", \"Topic15\", \"Topic15\", \"Topic15\", \"Topic15\", \"Topic15\", \"Topic15\", \"Topic15\", \"Topic15\", \"Topic15\", \"Topic15\", \"Topic15\", \"Topic15\", \"Topic15\", \"Topic15\", \"Topic15\", \"Topic15\", \"Topic15\", \"Topic15\", \"Topic15\", \"Topic15\", \"Topic15\", \"Topic15\", \"Topic15\", \"Topic16\", \"Topic16\", \"Topic16\", \"Topic16\", \"Topic16\", \"Topic16\", \"Topic16\", \"Topic16\", \"Topic16\", \"Topic16\", \"Topic16\", \"Topic16\", \"Topic16\", \"Topic16\", \"Topic16\", \"Topic16\", \"Topic16\", \"Topic16\", \"Topic16\", \"Topic16\", \"Topic16\", \"Topic16\", \"Topic16\", \"Topic16\", \"Topic16\", \"Topic16\", \"Topic16\", \"Topic16\", \"Topic16\", \"Topic16\", \"Topic16\", \"Topic17\", \"Topic17\", \"Topic17\", \"Topic17\", \"Topic17\", \"Topic17\", \"Topic17\", \"Topic17\", \"Topic17\", \"Topic17\", \"Topic17\", \"Topic17\", \"Topic17\", \"Topic17\", \"Topic17\", \"Topic17\", \"Topic17\", \"Topic17\", \"Topic17\", \"Topic17\", \"Topic17\", \"Topic17\", \"Topic17\", \"Topic17\", \"Topic17\", \"Topic17\", \"Topic17\", \"Topic17\", \"Topic17\", \"Topic17\", \"Topic17\", \"Topic17\", \"Topic17\", \"Topic17\", \"Topic17\", \"Topic17\", \"Topic17\", \"Topic18\", \"Topic18\", \"Topic18\", \"Topic18\", \"Topic18\", \"Topic18\", \"Topic18\", \"Topic18\", \"Topic18\", \"Topic18\", \"Topic18\", \"Topic18\", \"Topic18\", \"Topic18\", \"Topic18\", \"Topic18\", \"Topic18\", \"Topic18\", \"Topic18\", \"Topic18\", \"Topic18\", \"Topic18\", \"Topic18\", \"Topic18\", \"Topic18\", \"Topic18\", \"Topic18\", \"Topic18\", \"Topic18\", \"Topic18\", \"Topic19\", \"Topic19\", \"Topic19\", \"Topic19\", \"Topic19\", \"Topic19\", \"Topic19\", \"Topic19\", \"Topic19\", \"Topic19\", \"Topic19\", \"Topic19\", \"Topic19\", \"Topic19\", \"Topic19\", \"Topic19\", \"Topic19\", \"Topic19\", \"Topic19\", \"Topic19\", \"Topic19\", \"Topic19\", \"Topic19\", \"Topic19\", \"Topic19\", \"Topic19\", \"Topic19\", \"Topic19\", \"Topic19\", \"Topic19\", \"Topic19\", \"Topic19\", \"Topic19\", \"Topic19\", \"Topic19\", \"Topic19\", \"Topic19\", \"Topic20\", \"Topic20\", \"Topic20\", \"Topic20\", \"Topic20\", \"Topic20\", \"Topic20\", \"Topic20\", \"Topic20\", \"Topic20\", \"Topic20\", \"Topic20\", \"Topic20\", \"Topic20\", \"Topic20\", \"Topic20\", \"Topic20\", \"Topic20\", \"Topic20\", \"Topic20\", \"Topic20\", \"Topic20\", \"Topic20\", \"Topic20\", \"Topic20\", \"Topic20\", \"Topic20\", \"Topic20\", \"Topic20\", \"Topic20\", \"Topic20\", \"Topic20\", \"Topic20\", \"Topic20\", \"Topic20\", \"Topic20\"], \"logprob\": [30.0, 29.0, 28.0, 27.0, 26.0, 25.0, 24.0, 23.0, 22.0, 21.0, 20.0, 19.0, 18.0, 17.0, 16.0, 15.0, 14.0, 13.0, 12.0, 11.0, 10.0, 9.0, 8.0, 7.0, 6.0, 5.0, 4.0, 3.0, 2.0, 1.0, -3.9464, -4.29, -4.8507, -5.2374, -5.2938, -5.4956, -5.5196, -5.5553, -5.6015, -5.6289, -5.9186, -5.9756, -6.01, -6.0482, -6.0542, -6.1701, -6.2582, -6.3234, -6.3744, -6.3763, -6.3879, -6.3908, -6.4057, -6.4564, -6.4768, -6.4773, -6.4778, -6.4796, -6.5719, -6.5757, -3.6937, -5.2115, -3.5211, -4.387, -3.9919, -5.6256, -4.7843, -3.7293, -4.5809, -5.3348, -5.0407, -5.2332, -3.5173, -4.5737, -4.5841, -4.5291, -4.9694, -4.3167, -4.542, -4.57, -5.0418, -4.4945, -4.7364, -4.5828, -4.9372, -5.1017, -5.0529, -5.0379, -4.9025, -5.117, -5.1678, -4.1656, -4.1741, -4.2369, -4.4688, -4.663, -4.7949, -4.8005, -4.8829, -4.9539, -4.9904, -5.0111, -5.0713, -5.1382, -5.1582, -5.2396, -5.2647, -5.2922, -5.4328, -5.4503, -5.4611, -5.5229, -5.5263, -5.6645, -5.7175, -5.7868, -5.7874, -5.8141, -5.8499, -5.9443, -5.9462, -5.2035, -5.3208, -5.4684, -4.2221, -4.3875, -4.8153, -4.7463, -4.7739, -3.855, -5.3913, -4.2921, -5.0129, -4.6243, -3.9673, -5.2836, -4.903, -4.8023, -4.8258, -4.5814, -4.863, -4.9872, -4.9506, -4.5117, -4.7668, -4.8184, -4.8521, -4.9732, -3.7662, -3.9981, -4.1342, -4.3656, -4.4958, -4.6665, -4.852, -5.0406, -5.1415, -5.1824, -5.2022, -5.2153, -5.287, -5.2884, -5.291, -5.608, -5.628, -5.7096, -5.7576, -5.7857, -5.7877, -5.8147, -5.8704, -5.8879, -5.8914, -5.9167, -5.9244, -5.9281, -5.9282, -5.9395, -4.9369, -4.7286, -4.8047, -4.1497, -4.5496, -5.4794, -5.3186, -4.8995, -5.1817, -5.3521, -4.8493, -3.8703, -4.5478, -4.7781, -4.7165, -4.611, -4.9073, -4.7102, -5.093, -4.9665, -4.9672, -4.9177, -4.9382, -5.0079, -5.1006, -4.4035, -4.7971, -4.9043, -4.971, -4.9863, -5.016, -5.0358, -5.0591, -5.1306, -5.1437, -5.1988, -5.3517, -5.3567, -5.4626, -5.4895, -5.5221, -5.5294, -5.5593, -5.7201, -5.7503, -5.7655, -5.8124, -5.8412, -5.8682, -5.887, -5.8887, -5.8942, -5.9567, -5.9733, -6.0169, -5.2947, -5.5615, -5.2985, -5.6145, -5.8216, -5.2352, -4.0012, -5.7028, -4.8301, -4.5736, -3.4134, -5.0312, -4.5249, -5.21, -5.2818, -4.2131, -4.5064, -5.2537, -4.919, -4.8619, -5.2029, -5.1333, -5.1766, -5.0821, -5.1425, -5.2557, -0.5321, -2.332, -3.0562, -3.9169, -4.3258, -5.001, -5.1879, -5.2902, -5.2913, -5.3194, -5.406, -5.4383, -5.4526, -5.6033, -5.6835, -5.8828, -5.9747, -5.9872, -6.063, -6.0904, -6.1084, -6.1168, -6.1187, -6.1655, -6.2004, -6.2019, -6.2172, -6.2346, -6.2388, -6.2473, -4.8388, -5.7233, -3.3217, -3.3312, -3.6745, -3.7578, -4.0886, -4.1239, -4.4728, -4.5109, -4.518, -4.5283, -4.6227, -4.7164, -4.7177, -4.7304, -4.7631, -4.7735, -4.7902, -4.8092, -4.8521, -4.8984, -4.9231, -4.9449, -4.964, -4.9701, -5.0541, -5.1215, -5.1274, -5.1511, -5.1633, -5.1906, -4.6849, -4.7425, -3.4942, -4.8021, -4.6539, -4.6354, -4.6895, -4.8603, -3.6434, -4.0769, -4.1419, -4.2891, -4.2906, -4.3302, -4.3366, -4.3843, -4.3909, -4.4152, -4.4914, -4.6028, -4.6635, -4.6946, -4.7247, -4.8186, -4.8318, -4.8882, -5.0217, -5.0833, -5.1307, -5.1912, -5.2156, -5.2767, -5.3177, -5.3415, -5.3604, -5.371, -5.4271, -5.4272, -3.5071, -3.2973, -3.9251, -3.8702, -4.7713, -4.4273, -4.6346, -4.2348, -4.3539, -4.4343, -4.2655, -4.2245, -4.4054, -4.2498, -4.6592, -2.5332, -3.8025, -3.8809, -4.0436, -4.126, -4.1305, -4.3555, -4.39, -4.3993, -4.4192, -4.4392, -4.4534, -4.597, -4.6131, -4.8227, -4.8716, -4.9692, -4.9853, -5.0158, -5.041, -5.0819, -5.1517, -5.1531, -5.1544, -5.1869, -5.2056, -5.285, -5.3284, -5.2281, -5.4693, -3.1878, -3.9874, -4.6525, -4.4789, -3.9509, -4.4212, -4.2818, -4.5153, -4.1721, -4.5298, -4.4901, -4.5106, -4.5485, -4.9109, -2.7915, -3.2168, -3.2357, -3.3118, -3.5764, -3.791, -3.8232, -3.9799, -4.0726, -4.0833, -4.1141, -4.2855, -4.3864, -4.4121, -4.5137, -4.524, -4.5274, -4.5909, -4.6713, -4.7213, -4.7426, -4.8776, -4.9216, -4.9965, -5.0027, -5.0336, -5.0577, -5.1238, -5.1388, -5.2008, -4.3169, -4.1513, -4.7329, -4.516, -3.8242, -4.6664, -4.7141, -4.0594, -4.8385, -4.8337, -2.4999, -3.6994, -3.8902, -3.9768, -3.9979, -4.0207, -4.0461, -4.2208, -4.3653, -4.3695, -4.3791, -4.4616, -4.5334, -4.5639, -4.6459, -4.6675, -4.6929, -4.6972, -4.8114, -4.9944, -5.0421, -5.0971, -5.1113, -5.1504, -5.1691, -5.2407, -5.2821, -5.3099, -5.3185, -5.3212, -4.5967, -3.79, -4.9934, -4.5862, -4.9026, -4.5089, -5.0658, -4.7916, -4.852, -4.9325, -2.6435, -3.6965, -3.7766, -3.7948, -3.8256, -3.9883, -4.1163, -4.1734, -4.1762, -4.1859, -4.2278, -4.2615, -4.3762, -4.4083, -4.4227, -4.423, -4.4662, -4.5386, -4.7534, -4.8216, -4.8415, -4.9065, -4.9925, -5.0233, -5.0355, -5.053, -5.0627, -5.1079, -5.2507, -5.2773, -4.2108, -3.9414, -4.3583, -4.1679, -4.1413, -4.4157, -4.2615, -4.5221, -4.5925, -3.3274, -2.4374, -3.8027, -3.8632, -3.9353, -4.1172, -4.3017, -4.3191, -4.3236, -4.3442, -4.3721, -4.4086, -4.4402, -4.7401, -4.7467, -4.8673, -4.8682, -4.8686, -4.9067, -4.9122, -4.9595, -5.0666, -5.0935, -5.1179, -5.1332, -5.1636, -5.1766, -5.1812, -5.2762, -5.2881, -3.7462, -4.1166, -3.9921, -3.1448, -3.9315, -4.7684, -4.452, -4.5591, -4.6776, -4.6324, -4.8759, -4.8828, -3.4119, -3.574, -3.7241, -3.7503, -3.764, -3.8042, -3.9165, -3.9356, -3.9399, -4.1843, -4.2109, -4.2308, -4.2361, -4.251, -4.2617, -4.3122, -4.3589, -4.4163, -4.4299, -4.4462, -4.484, -4.5327, -4.5438, -4.5558, -4.5807, -4.5819, -4.6096, -4.6393, -4.6444, -4.6571, -3.848, -4.322, -2.9336, -3.2533, -3.406, -3.6081, -3.7881, -3.8532, -4.3735, -4.4482, -4.5117, -4.5275, -4.5542, -4.5559, -4.6457, -4.6671, -4.7876, -4.9201, -4.9937, -5.1042, -5.151, -5.2102, -5.3592, -5.3868, -5.4153, -5.5164, -5.5234, -5.5541, -5.5585, -5.5593, -5.5612, -5.5612, -3.1929, -3.2526, -4.8358, -4.6696, -4.5707, -5.1555, -5.0768, -4.7011, -4.9612, -4.8778, -5.0556, -5.0676, -2.5625, -2.6815, -2.8108, -3.2403, -3.4964, -3.8022, -3.9597, -4.0631, -4.1097, -4.2127, -4.2633, -4.2642, -4.2851, -4.3803, -4.4029, -4.53, -4.6894, -4.7402, -4.7453, -4.7483, -4.8187, -4.8818, -4.9076, -4.9342, -5.0296, -5.0343, -5.081, -5.1739, -5.241, -5.2713, -4.721, -4.7423, -5.0091, -2.5347, -2.7741, -3.1921, -3.2764, -3.3588, -3.5568, -3.6681, -3.6919, -4.1788, -4.2094, -4.2102, -4.2281, -4.2486, -4.3221, -4.3322, -4.4691, -4.5163, -4.6368, -4.6875, -4.6978, -4.726, -4.7427, -4.7693, -4.8387, -4.8529, -4.8674, -4.8761, -4.911, -4.946, -5.0231, -4.5568, -2.7314, -3.1804, -3.5449, -3.71, -4.0522, -4.2475, -4.2778, -4.5789, -4.6464, -4.9228, -5.0997, -5.2926, -5.4731, -5.6105, -5.8002, -5.8455, -5.8558, -5.9142, -6.05, -6.1789, -6.5226, -6.9016, -6.9588, -7.0119, -7.0206, -7.3178, -1.3896, -8.2158, -4.3007, -3.9475, -4.62, -4.7479, -4.9875, -5.6107, -5.1092, -5.6255, -5.8299, -2.3617, -3.0112, -3.0259, -3.2469, -3.5285, -3.8172, -4.05, -4.0644, -4.0805, -4.2682, -4.3928, -4.4485, -4.5731, -4.9333, -5.0039, -5.043, -5.0598, -5.0964, -5.2173, -5.228, -5.2314, -5.27, -5.4032, -5.6821, -5.9109, -6.2833, -6.4642, -6.8579, -6.8787, -6.8877, -2.3048, -3.1476, -3.7055, -4.6179, -4.792, -5.2476, -5.4867, -5.6377, -11.392, -11.392, -11.392, -11.392, -11.3921, -11.3921, -11.3921, -11.3921, -11.3921, -11.392, -11.3921, -11.3921, -11.3921, -11.3921, -11.3921, -11.3921, -11.3921, -11.3921, -11.3921, -11.3921, -11.3921, -11.3921, -11.3921, -11.3921, -11.3921, -11.3921, -11.3921, -11.3921, -11.3921, -3.52, -3.8477, -4.0025, -4.1312, -5.4336, -11.2647, -11.2648, -11.2648, -11.2648, -11.2648, -11.2648, -11.2648, -11.2648, -11.2648, -11.2648, -11.2648, -11.2648, -11.2648, -11.2648, -11.2648, -11.2648, -11.2648, -11.2648, -11.2648, -11.2648, -11.2648, -11.2648, -11.2648, -11.2648, -11.2648, -11.2648, -11.2648, -11.2648, -11.2648, -11.2648, -11.2648], \"loglift\": [30.0, 29.0, 28.0, 27.0, 26.0, 25.0, 24.0, 23.0, 22.0, 21.0, 20.0, 19.0, 18.0, 17.0, 16.0, 15.0, 14.0, 13.0, 12.0, 11.0, 10.0, 9.0, 8.0, 7.0, 6.0, 5.0, 4.0, 3.0, 2.0, 1.0, 0.9847, 0.9846, 0.9845, 0.9844, 0.9844, 0.9843, 0.9843, 0.9843, 0.9842, 0.9842, 0.984, 0.984, 0.9839, 0.9839, 0.9839, 0.9838, 0.9837, 0.9836, 0.9836, 0.9836, 0.9836, 0.9836, 0.9835, 0.9835, 0.9834, 0.9834, 0.9834, 0.9834, 0.9833, 0.9833, 0.9641, 0.9707, 0.9528, 0.9593, 0.948, 0.9745, 0.956, 0.9286, 0.9376, 0.9585, 0.9325, 0.9378, 0.8661, 0.8766, 0.8616, 0.8508, 0.8885, 0.82, 0.8316, 0.8312, 0.8517, 0.702, 0.7542, 0.7091, 0.8013, 0.7483, 0.6909, 0.668, 0.2321, 0.6629, 0.6429, 2.0643, 2.0643, 2.0643, 2.0641, 2.064, 2.0639, 2.0639, 2.0639, 2.0638, 2.0638, 2.0638, 2.0637, 2.0636, 2.0636, 2.0635, 2.0635, 2.0635, 2.0633, 2.0633, 2.0632, 2.0632, 2.0631, 2.0629, 2.0628, 2.0627, 2.0627, 2.0626, 2.0626, 2.0624, 2.0624, 2.0553, 2.0489, 2.0521, 2.0127, 2.0175, 2.0234, 2.0182, 2.0123, 1.7373, 2.0333, 1.7551, 1.9014, 1.762, 1.4966, 1.9882, 1.7704, 1.7062, 1.7079, 1.5073, 1.5665, 1.593, 1.4761, -0.1283, 0.7462, 0.9194, 0.993, 0.7328, 2.1042, 2.1041, 2.1041, 2.104, 2.1039, 2.1038, 2.1037, 2.1035, 2.1034, 2.1033, 2.1033, 2.1033, 2.1032, 2.1032, 2.1032, 2.1027, 2.1027, 2.1025, 2.1024, 2.1024, 2.1024, 2.1023, 2.1022, 2.1022, 2.1022, 2.1021, 2.1021, 2.1021, 2.1021, 2.102, 2.0792, 2.0414, 2.031, 1.945, 1.978, 2.047, 2.0243, 1.9356, 1.9255, 1.9726, 1.8065, 1.2643, 1.4172, 1.4011, 1.3391, 0.6809, 1.0152, 0.5093, 1.3881, 0.8134, 0.5234, 0.2191, 0.2584, 0.7358, 0.7101, 2.2099, 2.2096, 2.2095, 2.2095, 2.2095, 2.2094, 2.2094, 2.2094, 2.2093, 2.2093, 2.2092, 2.209, 2.209, 2.2088, 2.2088, 2.2087, 2.2087, 2.2086, 2.2083, 2.2083, 2.2082, 2.2081, 2.2081, 2.208, 2.2079, 2.2079, 2.2079, 2.2078, 2.2077, 2.2076, 2.191, 2.1965, 2.1855, 2.1945, 2.2028, 2.1473, 2.0074, 2.1891, 2.0764, 2.0343, 1.8061, 2.0795, 1.987, 2.1033, 2.0784, 1.6966, 1.7061, 2.0562, 1.8163, 1.3055, 1.6432, 1.3478, 1.4436, 0.8405, 0.5228, -0.1211, 2.8762, 2.8761, 2.876, 2.8756, 2.8753, 2.8743, 2.8739, 2.8737, 2.8737, 2.8736, 2.8734, 2.8733, 2.8732, 2.8727, 2.8724, 2.8716, 2.8711, 2.8711, 2.8707, 2.8705, 2.8704, 2.8704, 2.8703, 2.8701, 2.8698, 2.8698, 2.8697, 2.8696, 2.8696, 2.8695, 2.2417, -0.2048, 3.0137, 3.0137, 3.0135, 3.0135, 3.0132, 3.0132, 3.0128, 3.0127, 3.0127, 3.0127, 3.0125, 3.0124, 3.0124, 3.0124, 3.0123, 3.0123, 3.0123, 3.0122, 3.0121, 3.012, 3.012, 3.0119, 3.0119, 3.0119, 3.0117, 3.0115, 3.0115, 3.0114, 3.0114, 3.0113, 2.9774, 2.9226, 2.1711, 2.206, 1.8024, 1.4533, 1.2224, 1.8772, 3.6654, 3.6648, 3.6647, 3.6644, 3.6644, 3.6643, 3.6643, 3.6641, 3.6641, 3.6641, 3.6639, 3.6635, 3.6634, 3.6633, 3.6632, 3.6628, 3.6628, 3.6625, 3.662, 3.6617, 3.6614, 3.6611, 3.661, 3.6606, 3.6604, 3.6602, 3.6601, 3.6601, 3.6597, 3.6597, 3.6541, 3.6306, 3.641, 3.5191, 3.5782, 3.4778, 3.4982, 3.3539, 3.1854, 3.165, 2.9339, 2.6113, 2.7811, 2.1796, 2.9023, 3.7149, 3.7138, 3.7137, 3.7134, 3.7133, 3.7133, 3.7128, 3.7127, 3.7127, 3.7126, 3.7126, 3.7125, 3.7121, 3.712, 3.7113, 3.7111, 3.7107, 3.7106, 3.7105, 3.7103, 3.7101, 3.7098, 3.7097, 3.7097, 3.7096, 3.7094, 3.709, 3.7087, 3.7084, 3.7077, 3.6855, 3.4916, 3.5344, 3.2437, 2.8833, 2.4228, 2.1449, 2.3499, 1.4202, 2.1399, 2.0218, 1.9189, 0.9154, 2.2282, 3.7874, 3.7871, 3.7871, 3.787, 3.7868, 3.7865, 3.7864, 3.7861, 3.786, 3.7859, 3.7859, 3.7855, 3.7852, 3.7851, 3.7848, 3.7848, 3.7848, 3.7846, 3.7843, 3.7841, 3.784, 3.7835, 3.7833, 3.7829, 3.7829, 3.7827, 3.7826, 3.7822, 3.7821, 3.7817, 3.7802, 3.7271, 3.6136, 3.5067, 2.9578, 3.4623, 3.4908, 2.3693, 3.5748, 3.5316, 4.1291, 4.1277, 4.1273, 4.1271, 4.127, 4.127, 4.1269, 4.1264, 4.1259, 4.1258, 4.1258, 4.1255, 4.1252, 4.125, 4.1246, 4.1245, 4.1244, 4.1244, 4.1237, 4.1225, 4.1222, 4.1217, 4.1216, 4.1213, 4.1212, 4.1205, 4.1201, 4.1199, 4.1198, 4.1198, 3.9687, 3.5161, 3.8708, 3.4136, 3.6217, 2.3269, 3.8021, 2.3156, 2.2332, 2.4476, 4.2032, 4.2018, 4.2017, 4.2016, 4.2015, 4.2011, 4.2007, 4.2005, 4.2005, 4.2005, 4.2004, 4.2002, 4.1998, 4.1996, 4.1996, 4.1996, 4.1994, 4.199, 4.1979, 4.1974, 4.1973, 4.1969, 4.1962, 4.196, 4.1959, 4.1958, 4.1957, 4.1953, 4.194, 4.1937, 4.065, 3.8939, 3.6782, 3.4446, 3.2133, 3.4709, 3.2858, 2.9204, 2.2515, 4.2376, 4.2376, 4.2367, 4.2365, 4.2363, 4.2358, 4.2351, 4.235, 4.235, 4.2349, 4.2348, 4.2347, 4.2345, 4.2329, 4.2329, 4.2321, 4.2321, 4.2321, 4.2318, 4.2318, 4.2314, 4.2305, 4.2303, 4.2301, 4.2299, 4.2297, 4.2295, 4.2295, 4.2285, 4.2284, 4.0448, 4.0219, 3.9285, 3.6992, 3.8662, 4.0686, 3.84, 3.8423, 3.8073, 3.2057, 2.7774, 2.0823, 4.5373, 4.5369, 4.5365, 4.5364, 4.5363, 4.5362, 4.5358, 4.5357, 4.5357, 4.5347, 4.5345, 4.5345, 4.5344, 4.5343, 4.5343, 4.534, 4.5338, 4.5334, 4.5333, 4.5332, 4.533, 4.5327, 4.5326, 4.5325, 4.5323, 4.5323, 4.5321, 4.5319, 4.5319, 4.5318, 4.3567, 3.5161, 4.6357, 4.6352, 4.6348, 4.6343, 4.6337, 4.6335, 4.6309, 4.6304, 4.6299, 4.6298, 4.6296, 4.6296, 4.6289, 4.6287, 4.6276, 4.6263, 4.6254, 4.624, 4.6234, 4.6226, 4.6202, 4.6198, 4.6193, 4.6174, 4.6172, 4.6166, 4.6165, 4.6165, 4.6165, 4.6165, 4.5265, 4.4687, 4.5656, 4.4394, 3.9595, 4.0873, 3.934, 2.2055, 2.7364, 2.2623, 2.73, 2.629, 4.919, 4.9188, 4.9186, 4.9176, 4.9168, 4.9156, 4.9148, 4.9141, 4.9138, 4.9131, 4.9128, 4.9128, 4.9126, 4.9118, 4.9116, 4.9104, 4.9087, 4.9081, 4.9081, 4.908, 4.9071, 4.9063, 4.9059, 4.9055, 4.904, 4.904, 4.9032, 4.9015, 4.9002, 4.8996, 4.7111, 4.4706, 3.9084, 4.9696, 4.9692, 4.9683, 4.968, 4.9678, 4.9671, 4.9666, 4.9665, 4.9636, 4.9634, 4.9634, 4.9632, 4.9631, 4.9625, 4.9624, 4.9611, 4.9606, 4.9593, 4.9587, 4.9586, 4.9582, 4.958, 4.9577, 4.9567, 4.9565, 4.9563, 4.9562, 4.9556, 4.9551, 4.9538, 3.8447, 5.3143, 5.3129, 5.3112, 5.3102, 5.3075, 5.3055, 5.3052, 5.3011, 5.3, 5.2947, 5.2905, 5.285, 5.2788, 5.2733, 5.2645, 5.2621, 5.2616, 5.2584, 5.2501, 5.2413, 5.2119, 5.167, 5.1589, 5.1509, 5.1496, 5.0977, 5.0391, 4.8459, 4.0005, 3.7197, 2.746, 2.0909, 2.2399, 2.8345, 1.764, 1.7991, 0.5968, 5.6774, 5.6752, 5.6751, 5.6739, 5.672, 5.6693, 5.6666, 5.6664, 5.6662, 5.6633, 5.6612, 5.6601, 5.6575, 5.6479, 5.6456, 5.6443, 5.6437, 5.6424, 5.6376, 5.6372, 5.637, 5.6354, 5.6292, 5.6134, 5.597, 5.5618, 5.5399, 5.4788, 5.4749, 5.4733, 6.7147, 6.7059, 6.6944, 6.6554, 6.6433, 6.6009, 6.5707, 6.5481, 2.6149, 2.6149, 2.6149, 2.6149, 2.6149, 2.6149, 2.6149, 2.6149, 2.6149, 2.6149, 2.6149, 2.6149, 2.6149, 2.6149, 2.6149, 2.6149, 2.6148, 2.6148, 2.6148, 2.6148, 2.6148, 2.6148, 2.6148, 2.6148, 2.6148, 2.6148, 2.6148, 2.6148, 2.6148, 7.5168, 7.4973, 7.4857, 7.4748, 7.2591, 2.7422, 2.7421, 2.7421, 2.7421, 2.7421, 2.7421, 2.7421, 2.7421, 2.7421, 2.7421, 2.7421, 2.7421, 2.7421, 2.7421, 2.7421, 2.7421, 2.7421, 2.7421, 2.7421, 2.7421, 2.7421, 2.7421, 2.7421, 2.7421, 2.7421, 2.7421, 2.7421, 2.7421, 2.7421, 2.7421, 2.7421]}, \"token.table\": {\"Topic\": [5, 19, 3, 17, 3, 4, 16, 18, 2, 3, 4, 18, 12, 8, 6, 8, 20, 13, 1, 2, 3, 4, 4, 4, 11, 15, 3, 7, 8, 8, 10, 19, 2, 2, 14, 6, 7, 4, 8, 3, 11, 14, 14, 1, 13, 3, 12, 10, 3, 4, 8, 14, 13, 15, 7, 2, 8, 10, 5, 18, 1, 1, 13, 15, 17, 6, 3, 3, 17, 7, 3, 1, 6, 12, 1, 2, 8, 17, 18, 1, 1, 8, 6, 2, 6, 5, 4, 2, 3, 7, 6, 9, 2, 8, 9, 12, 13, 7, 5, 1, 9, 6, 9, 2, 1, 4, 6, 10, 11, 17, 19, 1, 2, 3, 4, 5, 12, 5, 3, 4, 6, 17, 9, 16, 5, 1, 17, 6, 3, 4, 14, 8, 17, 4, 9, 3, 3, 3, 4, 17, 17, 18, 4, 6, 7, 3, 4, 20, 12, 8, 8, 1, 3, 6, 14, 9, 3, 14, 15, 7, 10, 2, 1, 3, 8, 11, 12, 1, 2, 8, 8, 12, 13, 13, 3, 7, 7, 12, 15, 16, 11, 8, 17, 6, 11, 2, 9, 9, 4, 1, 4, 12, 2, 17, 11, 8, 11, 8, 12, 11, 12, 1, 5, 17, 10, 8, 8, 2, 8, 10, 9, 6, 15, 9, 4, 5, 16, 7, 18, 2, 8, 17, 13, 4, 2, 9, 16, 11, 5, 4, 7, 2, 15, 9, 9, 6, 1, 3, 7, 16, 9, 17, 1, 2, 4, 9, 18, 3, 10, 9, 13, 3, 4, 7, 11, 11, 5, 2, 8, 9, 16, 2, 10, 14, 17, 3, 5, 7, 2, 3, 15, 9, 8, 9, 3, 8, 15, 10, 1, 8, 1, 3, 4, 3, 3, 6, 5, 17, 1, 2, 17, 13, 2, 5, 2, 12, 5, 15, 2, 5, 1, 4, 11, 11, 1, 3, 4, 6, 10, 4, 10, 12, 4, 2, 9, 4, 1, 1, 10, 19, 6, 14, 4, 1, 2, 1, 3, 6, 3, 1, 3, 6, 4, 8, 14, 4, 15, 3, 14, 13, 1, 2, 4, 17, 5, 1, 11, 11, 2, 15, 1, 7, 7, 1, 9, 13, 12, 16, 9, 14, 14, 12, 5, 1, 2, 6, 9, 3, 4, 16, 2, 19, 7, 17, 11, 12, 1, 9, 2, 10, 13, 11, 13, 15, 2, 3, 4, 7, 10, 1, 11, 3, 4, 8, 9, 10, 12, 2, 2, 7, 8, 11, 11, 2, 5, 16, 2, 2, 17, 6, 12, 12, 11, 13, 13, 13, 4, 4, 3, 4, 7, 8, 4, 4, 9, 7, 19, 6, 15, 15, 16, 8, 4, 11, 14, 16, 18, 1, 3, 3, 14, 15, 4, 14, 17, 1, 4, 6, 14, 10, 3, 12, 12, 12, 7, 2, 2, 11, 3, 1, 3, 4, 1, 1, 2, 5, 1, 3, 4, 8, 5, 3, 14, 1, 2, 4, 1, 3, 6, 1, 10, 1, 5, 2, 17, 2, 2, 5, 1, 3, 4, 1, 3, 4, 14, 6, 1, 2, 3, 4, 10, 14, 6, 18, 5, 1, 17, 17, 18, 1, 3, 4, 12, 7, 7, 16, 11, 14, 4, 2, 1, 2, 3, 8, 18, 6, 14, 6, 9, 4, 11, 18, 7, 6, 8, 10, 15, 8, 2, 17, 9, 5, 1, 10, 14, 2, 16, 8, 14, 5, 4, 5, 20, 8, 1, 3, 19, 4, 14, 13, 14, 18, 10, 4, 6, 7, 8, 12, 3, 4, 14, 1, 2, 8, 14, 7, 1, 6, 6, 1, 1, 2, 13, 3, 18, 8, 10, 12, 13, 12, 16, 14, 14, 1, 7, 11, 9, 10, 1, 2, 5, 6, 9, 10, 10, 2, 2, 7, 18, 12, 7, 5, 11, 12, 7, 15, 2, 17, 4, 6, 13, 1, 3, 4, 7, 15, 6, 12, 1, 2, 8, 16, 16, 10, 13, 10, 15, 6, 6, 15, 5, 1, 3, 6, 11, 4, 12, 18, 2, 16, 7, 12, 5, 14, 4, 1, 12, 9, 7, 11, 8, 8, 12, 8, 1, 9, 1, 2, 3, 11, 14, 16, 2, 10, 15, 12, 1, 2, 10, 13, 3, 4, 10, 8, 11, 12, 7, 7, 1, 3, 17, 16, 1, 2, 3, 10, 1, 6, 9, 10, 18, 1, 11, 1, 3, 1, 3, 1, 3, 4, 16, 18, 4, 19, 8, 11, 12, 16, 13, 3, 14, 1, 13, 6, 9, 1, 2, 5, 14, 4, 7, 14, 1, 2, 3, 10, 11, 12, 1, 2, 7, 10, 10, 16, 12, 3, 7, 16, 18, 12, 12, 1, 4, 1, 6, 9, 14, 4, 10, 16, 11, 16, 5, 18, 18, 11, 20, 3, 4, 1, 2, 6, 15, 6, 10, 14, 1, 1, 11, 9, 5, 10, 15, 1, 3, 4, 2, 15, 8, 9, 10, 3, 10, 7, 15, 6, 6, 5, 17, 17, 6, 17, 8, 4, 7, 8, 4, 8, 1, 3, 13, 9, 1, 2, 4, 6, 7, 3, 12, 13, 14, 6, 4, 8, 1, 7, 14, 1, 2, 3, 4, 18, 10, 1, 11, 10, 11, 1, 4, 10, 14, 18, 15, 2, 10, 4, 14, 12, 13, 13, 1, 2, 3, 4, 10, 14, 14, 10, 18, 10, 13, 3, 4, 16, 7, 8, 9, 13, 1, 2, 17, 5, 17, 6, 1, 4, 7, 6, 9, 17, 13, 3, 7, 1, 5, 18, 12, 12, 17, 2, 10, 2, 4, 1, 4, 1, 7, 10, 14, 17, 16, 1, 2, 3, 8, 10, 1, 3, 4, 8, 1, 13, 12, 6, 2, 3, 8, 10, 16, 14, 11, 7, 9, 15, 1, 2, 3, 18, 1, 3, 1, 3, 11, 15, 4, 5, 1, 2, 3, 4, 16, 18, 9, 6, 7, 4, 20, 4, 14, 1, 2, 3, 4, 8, 12, 3, 1, 2, 3, 14, 14, 14, 1, 16, 11, 7, 1, 2, 5, 6, 7, 2, 8, 1, 2, 3, 4, 8, 2, 8, 6, 10, 18, 1, 9, 10, 2, 18, 14, 15, 17, 13, 1, 2, 3, 4, 4, 14, 8, 9, 15, 1, 3, 4, 14, 11, 11, 1, 3, 4, 6, 4, 1, 2, 17, 6, 2, 16, 15, 3, 14, 1, 2, 3, 1, 2, 14, 15, 1, 3, 4, 6, 1, 3, 4, 14, 1, 4, 6, 7, 18], \"Freq\": [0.9998186190082132, 0.9050150805381462, 0.9985699959565155, 0.9747833146834264, 0.01743061842867889, 0.9807627969203322, 0.9929881156680095, 0.9677423929637853, 0.8492345253257038, 0.01903230389060696, 0.13060098187002708, 0.9620426827504833, 0.9960293856628819, 0.9975534551775427, 0.9983391154382111, 0.9980156208693026, 0.9369812572896216, 0.9970247536762586, 0.48404826798231054, 0.2674790929918945, 0.146265002512184, 0.10214307357756937, 0.9975840094337238, 0.9990934568197224, 0.9919065113306333, 0.9914621477229468, 0.04134755116419395, 0.9151591324341595, 0.04134755116419395, 0.9954496175214826, 0.9909286879293806, 0.9912772079863303, 0.9991774112236586, 0.9980979044084489, 0.9776917726926698, 0.2666450083274004, 0.7316635977292919, 0.9976462907093924, 0.9964520942667917, 0.9990813603224125, 0.9972088131550617, 0.9943854847401398, 0.9980964378825288, 0.9998673288121596, 0.9893048289365302, 0.9976301708882551, 0.9912891125174491, 0.9955537131227203, 0.9989647605639447, 0.8568048988566853, 0.06043447523221216, 0.08187896644364229, 0.9891474091983237, 0.9901540130645283, 0.9935669595498453, 0.9491258260172322, 0.046186171582347064, 0.004041290013455368, 0.9999703389307074, 0.9758777577717023, 0.9994197909205266, 0.9995678900007003, 0.9929972321927082, 0.9952379869304977, 0.9486518852387612, 0.9982206165913627, 0.9985225924438299, 0.9996211397298862, 0.9817520799605983, 0.9975802042387368, 0.9992511599778271, 0.9990760723670398, 0.1750511333761813, 0.8232134380393391, 0.22770530449799808, 0.554956113794236, 0.20795741083356992, 0.00886640123709019, 0.9442712011328677, 0.9985994219763762, 0.3740840140719032, 0.6244552045924684, 0.9969654911752512, 0.9841297591532148, 0.01448771464578865, 0.9961699595631701, 0.9969040145296094, 0.1175687928204044, 0.7424063856978123, 0.13935956045522074, 0.9979182403529916, 0.9976555277566911, 0.17863987401935347, 0.1703949567569218, 0.36552466530113864, 0.23223183622515953, 0.05221780932873409, 0.9967847375439661, 0.9937663603381163, 0.5634152644638347, 0.43578445965672113, 0.9986166581172098, 0.9995386862889369, 0.9994618313269564, 0.2756232703306473, 0.2509036945162395, 0.034607406140170965, 0.038315342512332144, 0.3992211494026865, 0.9508317452315488, 0.8944723935037185, 0.4042400147936075, 0.08706708010939238, 0.10385858841620377, 0.40455096865114104, 0.9928473693361745, 0.9875402038780177, 0.9982627748805845, 0.9983543358098014, 0.9757215544310975, 0.023203841960311476, 0.9657792613291863, 0.9971303593147313, 0.9970819560485485, 0.9961366760587189, 0.9991528592377822, 0.9732203049372029, 0.9981664764665789, 0.40765791207120655, 0.5670429603997986, 0.024520776665937237, 0.970624765039269, 0.02834400676623433, 0.9969666131862062, 0.9955554161309793, 0.9974590898836877, 0.9994637073428312, 0.9986161866875202, 0.998293863047489, 0.8038991900097168, 0.9927560787252229, 0.7556504617157473, 0.8763314065486768, 0.09634520726967909, 0.026648674351187833, 0.9994252153560356, 0.9978680998301884, 0.8904955947241733, 0.998478960293029, 0.9984791444566002, 0.9977779198277634, 0.6341472447384582, 0.055929977486660384, 0.21549491325742676, 0.09294246258812681, 0.9934034076499564, 0.5010640375052348, 0.13134688361787708, 0.36485245449410303, 0.9973779224466691, 0.9944666258609702, 0.9987539876816963, 0.7452531135027066, 0.2544568128594327, 0.9980710215252854, 0.2656829576436378, 0.7324232886392177, 0.035490218489980664, 0.9538982058584803, 0.010252729785994414, 0.28267836442999894, 0.35541431785058347, 0.35872049755151914, 0.9951645896645117, 0.997716362707056, 0.9956515766592489, 0.9924332238772441, 0.995583841711678, 0.9945752951117129, 0.9851513329040633, 0.9941228716036596, 0.9974843328208669, 0.9758703310434839, 0.9982789417562696, 0.9970908934683274, 0.9992478063804047, 0.996644207733251, 0.9988171640921215, 0.9984240701213849, 0.9982734408378475, 0.32532748197278655, 0.6714759227918314, 0.9987029105688113, 0.8355665467304938, 0.997242527429704, 0.1280316272756069, 0.870615065474127, 0.9945120110377376, 0.9951613387981133, 0.9960948051361427, 0.9948704190792628, 0.9859999453011723, 0.013571702192045586, 0.9919305550010038, 0.9953285280955412, 0.9900523062422714, 0.9955069012358321, 0.6598548816327566, 0.25556879411723243, 0.08435644793600582, 0.9954689291838827, 0.9986723589686697, 0.9987106336026773, 0.9978366933057582, 0.999136174185321, 0.9971481966445461, 0.9802929456334505, 0.9972818660445965, 0.9552186388378411, 0.44309120817459285, 0.35252225052884273, 0.20203844397898102, 0.9965214938450733, 0.9988099715413415, 0.9982498709945024, 0.9916535203499501, 0.004283600519870195, 0.9933539968339311, 0.9909236940414958, 0.9988039499222519, 0.9977069590291081, 0.9989594520792124, 0.9978760457128969, 0.9982849253724091, 0.9983476340362286, 0.9981704009953992, 0.9453983429903734, 0.05450388120620619, 0.9969398169711999, 0.9823460734999255, 0.24189327193230067, 0.7575822673539166, 0.04463317566126243, 0.9548109730067532, 0.9982470313979892, 0.9949972800643464, 0.9708665837687813, 0.4573549989723866, 0.5418345847698338, 0.9973450945143972, 0.9932226192718153, 0.3224409574785315, 0.057622528522779395, 0.6179096675634216, 0.9957035325571498, 0.9889804807814976, 0.9985764733099479, 0.998986696169007, 0.998112327920122, 0.997109942787994, 0.98443615109622, 0.9991830737295725, 0.992916696486797, 0.9922869177087966, 0.9723842845439775, 0.9996972986802056, 0.9971418053570746, 0.9946311358560754, 0.060219361026842354, 0.9390811677110416, 0.990565380006622, 0.9952186330416068, 0.18805229190450315, 0.808037191777162, 0.9989818842137806, 0.99618360166364, 0.982552556058795, 0.9874050035630697, 0.9990340728009739, 0.9939166584218704, 0.08893477920494303, 0.488502997738156, 0.42212105727896404, 0.9992592097153588, 0.9968528517821028, 0.9985158523486269, 0.996191824005593, 0.6136186099587155, 0.4658027862152922, 0.48734279945068143, 0.04577252812520212, 0.9972433466211512, 0.9910484476551784, 0.008335921522333277, 0.9978324407008563, 0.9944931597600638, 0.179049741002045, 0.8138624591002045, 0.9995445182424867, 0.9962405562890312, 0.38255982837526475, 0.1477472440621712, 0.4683059968042034, 0.998472189851681, 0.5549040865254222, 0.07008554217834109, 0.18858068565512395, 0.16666390098767023, 0.01926750300435494, 0.9975680600767077, 0.9963754511430927, 0.9941917908004224, 0.9993805965742203, 0.9988795347289003, 0.993598842513022, 0.9974370892718329, 0.9991853807479247, 0.22138748662474195, 0.7702439638819146, 0.923518722638284, 0.9993849117471607, 0.9904548413511259, 0.9965694797037193, 0.9639335770960161, 0.03599487265578809, 0.9998862425626137, 0.08620801737934976, 0.9121364419492491, 0.999828767277779, 0.8576432238139122, 0.08281590280508454, 0.059401982640296246, 0.7995916603511906, 0.1838797506515636, 0.01579873752614866, 0.9989902280010083, 0.9982699972399371, 0.10276141709059577, 0.8954923489323346, 0.9923206456575449, 0.1623280081097526, 0.2335701599655358, 0.6037691043120257, 0.8741552044849169, 0.9911960002024544, 0.999128793867864, 0.9991854581275835, 0.9891499920636413, 0.9986590707811909, 0.9856319838690082, 0.9990579520182196, 0.997591937829448, 0.9979215342885955, 0.9993429434957743, 0.991587230723224, 0.9932560941475304, 0.98897831405783, 0.9836566943104101, 0.9959051118886849, 0.9841216915642679, 0.9752043190101753, 0.99475148049236, 0.9970968525140905, 0.8975051524094407, 0.10232044531866764, 0.1566636753652256, 0.8410365730133164, 0.9441245223951664, 0.05446872244587498, 0.9910114654058101, 0.9977187660227863, 0.8990531620460325, 0.9970828200360082, 0.996343835477547, 0.1919637727482551, 0.8058014181641872, 0.9992419629466165, 0.9968025169512599, 0.8487039571642775, 0.1502751043419317, 0.9950024279666828, 0.9958787231664817, 0.9953292712125746, 0.9849197362826232, 0.7388800481799619, 0.00657986423208976, 0.22990819728595985, 0.01896549102190578, 0.005031660883362757, 0.7212372216950833, 0.2771420805587589, 0.9977471234710584, 0.9856881661049725, 0.012206664595727213, 0.17360228400572064, 0.17360228400572064, 0.6502194637305173, 0.9992770252270655, 0.6078076976862595, 0.22590724933950734, 0.1656922580128766, 0.9953479731053959, 0.9963579919058809, 0.998281602439137, 0.9957769687329947, 0.9929080510217309, 0.9989174847966555, 0.7276489876593975, 0.26794294852439904, 0.9987770575969149, 0.9918097795299664, 0.9877748041491299, 0.990047092504443, 0.9964564273618489, 0.9959616584721696, 0.993708801527647, 0.9992267802202895, 0.9986170473490801, 0.089370622735574, 0.8386346003727377, 0.05507162698300236, 0.016424871205456843, 0.9990197431946297, 0.99865048465203, 0.9937775194032523, 0.9910421726804158, 0.9119994571469915, 0.35294741442858724, 0.6405341965555843, 0.9810201152724861, 0.992212714675675, 0.9994691058050267, 0.8745599370740964, 0.03711832942161094, 0.0879118328406575, 0.9901383975881735, 0.9882867283033676, 0.8480752582332733, 0.15177484998209287, 0.9975750126666186, 0.9853965604481064, 0.9758151519123909, 0.978621390307139, 0.019188654711904687, 0.8805901262798695, 0.6284738872301245, 0.06932307738932021, 0.2976326137014526, 0.0041510824784024075, 0.9968913857490462, 0.0010331974827226637, 0.9985853670514546, 0.996814924382367, 0.9924650614929845, 0.9971101462942991, 0.9987690711075873, 0.40720558245315946, 0.5906496814790878, 0.9981760659021005, 0.021220448072649396, 0.844573833291446, 0.13338567359951048, 0.9983063496089173, 0.8881289836615437, 0.11157110563436201, 0.00026116831843249537, 0.23814315082300994, 0.08669727610607274, 0.6743731160402747, 0.9916384062831585, 0.9950207230207632, 0.9985099248085461, 0.9849913801713587, 0.9081288146440628, 0.09149740067142442, 0.9976508780077169, 0.4879911452387659, 0.06559408303800252, 0.4454631133789621, 0.9993129895590475, 0.9917103865893007, 0.953856113483707, 0.0458319004945315, 0.9596435639576698, 0.03955411011873718, 0.9989910154171927, 0.9995051427685903, 0.9931031384140556, 0.753660613843621, 0.1578223507658153, 0.08833340527937424, 0.028084281259338692, 0.8813114928525808, 0.07444563444935812, 0.01604816071962211, 0.9975573064862735, 0.3697561570292004, 0.039434165529118145, 0.33640751087185977, 0.2541312889654281, 0.9950265410918157, 0.9954783834177807, 0.9979684094325154, 0.9087988285699836, 0.9996377614531942, 0.9995453688440461, 0.9919631977100858, 0.9092152087650834, 0.9957338279935721, 0.3753776875799713, 0.494944763255067, 0.1293212318485903, 0.9945214128592272, 0.9979946325532669, 0.9922897888679015, 0.9976177465175583, 0.9956416969255111, 0.9776917726926698, 0.9989153674485648, 0.9991341051016155, 0.23947672567039835, 0.4630225961996329, 0.08993224676463457, 0.2071011168351299, 0.9951239419629379, 0.9977092960567121, 0.9751847681194408, 0.998584943580239, 0.9981570651507733, 0.9842857085437166, 0.01445117679754233, 0.9454751752981003, 0.9911793947120442, 0.9637085635379831, 0.034665775666833924, 0.998003929611099, 0.9878676732310937, 0.9948858472100531, 0.9685743443484292, 0.029516373924839263, 0.9982577924696477, 0.9985437826478466, 0.9991160208298554, 0.9983724253749293, 0.9921173874491851, 0.9981433778483945, 0.9968490682785116, 0.9924979456439296, 0.9758966467522381, 0.9992811529350382, 0.46879400528996407, 0.5300084291212156, 0.9302351976301452, 0.9973188626139152, 0.9490600489137273, 0.050705312920916894, 0.9798807223727737, 0.8501158768569349, 0.14900555037160298, 0.8324348215381802, 0.16457880425826485, 0.9623445462576652, 0.997552193123719, 0.16669968928536721, 0.16320859631604015, 0.4808980565248028, 0.11695161447245657, 0.07156740587120478, 0.9978918125996785, 0.4175646476245628, 0.5792025757372967, 0.6513966512401531, 0.31810982781904956, 0.030353991204107783, 0.9922837502060198, 0.9918717970004657, 0.6785908631823023, 0.32059843860233567, 0.9978317600713135, 0.9979299385930073, 0.9749424078033139, 0.025037112072411792, 0.9966527853681262, 0.9983354967817584, 0.8915617700054932, 0.9981311759263184, 0.7222080194726789, 0.27314277659543623, 0.9965837632030373, 0.6736400930543686, 0.32520556216417795, 0.991038276285887, 0.9956365332832919, 0.5327756748714494, 0.4650818244171946, 0.9901066858376643, 0.9957359167308486, 0.9982371481246199, 0.9685172166968233, 0.03110599633268815, 0.0002859007015872073, 0.2552506327983849, 0.7418966990682029, 0.9932019594287576, 0.9973764032919119, 0.9991146323152984, 0.3931896730109083, 0.6054079402320277, 0.9765036925864325, 0.9919566768488445, 0.9980962887403315, 0.9933069540058695, 0.9961619813344623, 0.9876401105207879, 0.9990082416438442, 0.9968987194012932, 0.9879236048418237, 0.010829856813125961, 0.9979974496255932, 0.998402268489442, 0.990643079487814, 0.12955640771919275, 0.20283110157339662, 0.6674264055338506, 0.9947801627864671, 0.9711636286475548, 0.9968490706831902, 0.9958071070428054, 0.20133494633663793, 0.5711338273631157, 0.22598820507173645, 0.9980305941229389, 0.9983514577231708, 0.9950699103283231, 0.9953763058817195, 0.9935421791485816, 0.9909869755243549, 0.9993754129739193, 0.9989864234732974, 0.9954799563014343, 0.9949098819548112, 0.40867444053481167, 0.5029057751764618, 0.08813550706375367, 0.9984054942674859, 0.9918005726120096, 0.00597470224465066, 0.980937989921394, 0.9971961639571237, 0.9872238133033543, 0.8457206897202929, 0.15316201467375384, 0.9915867712236294, 0.9922150485229935, 0.9982858632820328, 0.999102011031235, 0.9932040403473171, 0.9991986323978579, 0.9923903366134483, 0.9945677310874054, 0.9955045131703486, 0.3095936400091476, 0.6890443064818976, 0.9935518892805523, 0.9994205899337576, 0.9958148108789776, 0.653110764318951, 0.34243820688679044, 0.004280477586084881, 0.17086025209920797, 0.8189508635099968, 0.9972214959859216, 0.9493176498506275, 0.05022668715047118, 0.9930644728779099, 0.9932290281995364, 0.36533144911089854, 0.14380067677769412, 0.4877563496108273, 0.9966941269856485, 0.9227979470185831, 0.07555660046549534, 0.9950730794543825, 0.27467511513884546, 0.14192567196483774, 0.5829964025107344, 0.9949842307736573, 0.9982797105656018, 0.9897573203603974, 0.0095860273158392, 0.9916915433940312, 0.9836427676470602, 0.4143051378357976, 0.1203987413979197, 0.4651895943619392, 0.9899636869018797, 0.19894620322237874, 0.0641048877049887, 0.7228378717079761, 0.01326308021482525, 0.9843491807148808, 0.6279143011002485, 0.371040268831965, 0.999686234959237, 0.9986199219439085, 0.9539901043328668, 0.045561843386522256, 0.11913243512754082, 0.8527222116289269, 0.028048170406241406, 0.9901396244243003, 0.9790099893015042, 0.9984096603104023, 0.9640663058826039, 0.9970078016662524, 0.9921114425642461, 0.988395153065326, 0.9923299787151445, 0.9922404294934805, 0.9992120197875752, 0.988029046514973, 0.9989750748450684, 0.9926028698551476, 0.056797428006621554, 0.9414603975643027, 0.8753516078001831, 0.11728103659343349, 0.001655175919665392, 0.005438435164614859, 0.03459259295547241, 0.9646011497199036, 0.9849010073676806, 0.12980913185456766, 0.5330460095304588, 0.1857375344089293, 0.00828568926731283, 0.026928490118766697, 0.11599964974237963, 0.3391716937332433, 0.147439573483324, 0.34827290197295463, 0.16503524274676595, 0.9972683844895566, 0.9886160472029785, 0.9929030490086918, 0.9981868274493315, 0.9978388064811823, 0.9948366720243423, 0.8524014920714602, 0.9966135918863376, 0.9953964464568977, 0.4015717780652482, 0.5981520979080807, 0.49504533471413825, 0.06026638857389509, 0.3085065129377963, 0.13488191728443186, 0.14367435439690301, 0.851783672495925, 0.991567389151488, 0.9962125769943905, 0.9831143991213812, 0.9979316883452104, 0.9960661559800467, 0.9874148787468008, 0.9982352564001515, 0.6363963790131597, 0.12220751165701314, 0.8770186130679767, 0.21699780153171327, 0.5728167131823901, 0.20981244386510023, 0.991512011481078, 0.0462380313429292, 0.4425640142823223, 0.5086183447722211, 0.9997804285704325, 0.26539850299453704, 0.7335548685252731, 0.9991920937437508, 0.9980146519589249, 0.9956089638285875, 0.9913397162261941, 0.47107012321172836, 0.4316574407526507, 0.0970924789792446, 0.9989057371743937, 0.9875251629185787, 0.994881626872875, 0.9986275830662161, 0.994813684040521, 0.8364809399284894, 0.1631575572648338, 0.9979986300020137, 0.9891708182842522, 0.9977517123493705, 0.9982110795981439, 0.9993968859955598, 0.9968860347692787, 0.9564241913531638, 0.9981460044805467, 0.9278427055560277, 0.9978111837488786, 0.023928192657150467, 0.9747590061386558, 0.9967014742776253, 0.19969815366673327, 0.799946939254602, 0.7939996878510809, 0.20576982356331752, 0.9975531299726806, 0.9991919324700445, 0.1032210778487111, 0.6989291627213573, 0.1880723028599397, 0.005248529382137853, 0.004373774485114877, 0.9995292140433192, 0.8438633418157757, 0.15261358309434242, 0.9811655510479788, 0.9987916660083238, 0.9983973450458234, 0.9990531189621297, 0.5859256944544806, 0.4127329524172003, 0.985668234582143, 0.11617829183458875, 0.6997611400075616, 0.07894741066751977, 0.10451560616779605, 0.908223703465957, 0.9906216633135175, 0.517074414023955, 0.4806362841766293, 0.9946137555402252, 0.996013966028952, 0.10073346834285028, 0.8987772563794116, 0.9952074034091211, 0.9942461719844877, 0.9576791285427411, 0.9897038169648631, 0.9991094212187881, 0.9936326648195944, 0.1529607508802854, 0.8442256827431137, 0.9938148154218455, 0.9962310521532995, 0.9926544126592884, 0.9990627853488229, 0.7453473540358597, 0.19549248939764072, 0.008768792400421879, 0.02682218851893751, 0.023211509295234384, 0.9942121143542123, 0.9995510806578736, 0.9582681174276108, 0.9914074805973814, 0.9937449074411756, 0.8765195692924728, 0.12267316771136187, 0.9874049358322273, 0.8272429143464011, 0.030049422102326535, 0.13964143212257624, 0.9943309538079591, 0.4711552079068808, 0.451566698168958, 0.07629209055822578, 0.9959517291931177, 0.8950706190749385, 0.9977271488462949, 0.1833387227696064, 0.8161359062797529, 0.9945288045736198, 0.24254744629987254, 0.7554756524094391, 0.9842824585263634, 0.9941313868667208, 0.13613103975610158, 0.8632185311665976, 0.9990541039518978, 0.9918425133834013, 0.9852519196314993, 0.9911490427223931, 0.9988080007408904, 0.9800250901152869, 0.812410950215954, 0.1861121610533331, 0.6239953380357716, 0.3754309300380885, 0.9740763335970241, 0.025744957404990134, 0.17729406856575577, 0.21669275046925704, 0.6008298990283946, 0.9847697533550736, 0.9578730506239342, 0.9876832243525607, 0.040067267546281767, 0.7208608833654188, 0.12877514809634663, 0.10078055068409737, 0.009448176626634129, 0.8323563374150809, 0.05893325892646923, 0.10855060750717356, 0.9972323507883302, 0.999060892016013, 0.994783422252212, 0.9973943102298304, 0.9994580497203417, 0.4664387760643675, 0.02604787970229585, 0.4349390145639167, 0.07148022802025372, 0.9879908427320053, 0.9829394657119994, 0.9953794152782152, 0.9878987021792284, 0.011760698835467005, 0.9960081541965209, 0.2658257758115984, 0.7337784122766217, 0.996749103435176, 0.9589002758056058, 0.7248277140573558, 0.27502926948652723, 0.7589847114264909, 0.24085909500543642, 0.994410561882853, 0.9756112391253823, 0.9978174135757159, 0.9963411897457403, 0.874625266015347, 0.0033955041061741065, 0.055884338414115504, 0.06607085073263783, 0.9879244147843521, 0.7611912467211861, 0.9959455796964004, 0.9986191646960452, 0.9965067755773255, 0.9966272925702596, 0.9315428268561978, 0.49664003241047483, 0.49664003241047483, 0.06249006566655718, 0.005460296999990433, 0.9294638893317049, 0.002426798666662415, 0.8341079375428564, 0.1616669878945424, 0.9991842324150446, 0.7894403508694866, 0.09123729893903157, 0.11908391871446801, 0.9980598833983529, 0.9959797042682393, 0.9980809294185159, 0.9990223611289282, 0.9930428620511482, 0.9958266781078015, 0.9972003683732458, 0.8580227508285511, 0.09925676914385663, 0.000843541947398215, 0.03613171341355687, 0.005623612982654767, 0.9985260209985342, 0.9955304559057614, 0.31299720675110393, 0.5665957302151252, 0.037085706404629326, 0.022466859481642662, 0.06078362667978665, 0.9261279729997379, 0.07225111846097246, 0.9965628925238522, 0.9887044342882727, 0.9766357212743276, 0.9995140912657454, 0.772961411270653, 0.2240467858755516, 0.9993670492102001, 0.9983923588677408, 0.9978865514091151, 0.989975389149072, 0.9807624887573632, 0.9975447900345449, 0.9717188402271378, 0.0034486889945430778, 0.020489269908755933, 0.004260145228553214, 0.9391594721430904, 0.05974563606267427, 0.9923851742057854, 0.9962107918485081, 0.9925717877659145, 0.7104758910308085, 0.2479264828076259, 0.033521227701821234, 0.007836131151075093, 0.997304147602181, 0.9980106048134011, 0.884115314509148, 0.09036078586164255, 0.003626519833912075, 0.021759119003472452, 0.9991477519926553, 0.43075976314411085, 0.4823295939430537, 0.08493854484531763, 0.99914635278633, 0.9997054407148767, 0.9976414051977822, 0.9894949124639425, 0.8489480986694026, 0.1493918819993534, 0.9986111536546769, 0.023978189547346162, 0.9751130415920773, 0.7284364051681143, 0.2640483955224569, 0.007252999728530739, 0.996018338231999, 0.16433348493743719, 0.34040507594183417, 0.4646333651504921, 0.03032344067297948, 0.9795125631531311, 0.02041080693583666, 0.06314121308723877, 0.9313328930367719, 0.3728498920026959, 0.18501334873228173, 0.4304430605805985, 0.011669204090947577, 0.9942522145511963], \"Term\": [\"_\", \"absurd\", \"accept\", \"acquisition\", \"action\", \"action\", \"adam\", \"added_forwarde\", \"address\", \"address\", \"address\", \"adjust\", \"administration\", \"agency\", \"air\", \"algorithm\", \"allen\", \"alone\", \"also\", \"also\", \"also\", \"also\", \"america\", \"american\", \"ammunition\", \"amp\", \"analysis\", \"analysis\", \"analysis\", \"announcement\", \"apollo\", \"apple\", \"application\", \"appreciate\", \"appressian\", \"april\", \"april\", \"arab\", \"archive\", \"argument\", \"arm\", \"armenia\", \"armenian\", \"article\", \"assist\", \"associate\", \"assure\", \"astronomy\", \"atheist\", \"attack\", \"attack\", \"attack\", \"attention\", \"austin\", \"australia\", \"available\", \"available\", \"available\", \"ax\", \"axis\", \"back\", \"bad\", \"ban\", \"bar\", \"bare\", \"baseball\", \"belief\", \"believe\", \"bell_lab\", \"benefit\", \"bible\", \"bike\", \"bill\", \"bill\", \"bit\", \"bit\", \"bit\", \"bit\", \"bk\", \"black\", \"block\", \"block\", \"blue\", \"board\", \"board\", \"bolt\", \"bomb\", \"book\", \"book\", \"book\", \"boston\", \"brain\", \"break\", \"break\", \"break\", \"break\", \"break\", \"btw\", \"buffer\", \"buy\", \"buy\", \"canada\", \"car\", \"card\", \"carry\", \"carry\", \"carry\", \"carry\", \"carry\", \"carrying\", \"cart\", \"case\", \"case\", \"case\", \"case\", \"catalog\", \"cbr\", \"cds\", \"certain\", \"certainly\", \"certainly\", \"changing_oil\", \"channel\", \"character\", \"charle\", \"cheap\", \"checking\", \"chicago\", \"child\", \"child\", \"child\", \"chip\", \"chip\", \"choice\", \"chris\", \"christ\", \"christian\", \"christianity\", \"church\", \"churchill\", \"circuit\", \"circumference\", \"city\", \"city\", \"city\", \"claim\", \"clearly\", \"click\", \"clinton\", \"clipper\", \"clipper_chip\", \"close\", \"close\", \"close\", \"close\", \"co\", \"cold\", \"cold\", \"cold\", \"college\", \"collin\", \"color\", \"come\", \"come\", \"communication\", \"community\", \"community\", \"computer\", \"computer\", \"computer\", \"concern\", \"concern\", \"concern\", \"concerned\", \"conclusion\", \"conference\", \"confirm\", \"congress\", \"consequence\", \"conservative\", \"consideration\", \"controller\", \"converter\", \"cool\", \"cop\", \"copy\", \"corp\", \"corporation\", \"country\", \"couple\", \"court\", \"court\", \"cpu\", \"cradle\", \"crime\", \"criminal\", \"criminal\", \"crypto\", \"cryptography\", \"cub\", \"cycle\", \"d\", \"d\", \"dale\", \"dan\", \"daniel\", \"data\", \"datum\", \"datum\", \"datum\", \"daughter\", \"dave\", \"david\", \"dealer\", \"death\", \"default\", \"deficit\", \"detroit\", \"developer\", \"device\", \"device\", \"device\", \"devil\", \"die\", \"digital\", \"direct\", \"direct\", \"director\", \"dirt\", \"discussion\", \"disease\", \"disk\", \"display\", \"distribution\", \"distribution_na\", \"division\", \"do\", \"do\", \"doctor\", \"download\", \"drive\", \"drive\", \"driver\", \"driver\", \"drug\", \"dual\", \"ducati\", \"earth\", \"earth\", \"eat\", \"economic\", \"effect\", \"effect\", \"effect\", \"effective\", \"effectively\", \"el\", \"email\", \"encryption\", \"engine\", \"england\", \"entry\", \"environmental\", \"escape\", \"esdi\", \"evidence\", \"ex\", \"exchange\", \"exist\", \"exist\", \"expand\", \"expansion\", \"expensive\", \"expensive\", \"explain\", \"export\", \"exposure\", \"extension\", \"face\", \"facility\", \"fact\", \"fact\", \"fact\", \"faith\", \"family\", \"fan\", \"fancy\", \"fasst\", \"fast\", \"fast\", \"fast\", \"father\", \"fax\", \"fax\", \"feature\", \"federal\", \"fi\", \"fi\", \"file\", \"film\", \"fire\", \"fire\", \"fire\", \"firearm\", \"first\", \"first\", \"first\", \"first\", \"first\", \"flame\", \"flight\", \"flow\", \"force\", \"format\", \"frame\", \"freedom\", \"friend\", \"fuel\", \"fuel\", \"fuzzy\", \"game\", \"genocide\", \"germany\", \"get\", \"get\", \"go\", \"goal\", \"goal\", \"god\", \"good\", \"good\", \"good\", \"government\", \"government\", \"government\", \"grant\", \"graphic\", \"greek\", \"greek\", \"green\", \"group\", \"group\", \"group\", \"grubb\", \"gt\", \"guess\", \"gun\", \"handgun\", \"hardware\", \"harry\", \"have\", \"headache\", \"health\", \"hear\", \"heat\", \"helmet\", \"hmmm\", \"ho\", \"hole\", \"holocaust\", \"homeland\", \"homosexual\", \"honda\", \"host\", \"host\", \"hot\", \"hot\", \"human\", \"human\", \"human_being\", \"ibm\", \"ibm_pc\", \"ice\", \"ide\", \"ignore\", \"ignore\", \"ill\", \"illinois\", \"image\", \"image\", \"immediate\", \"impact\", \"imply\", \"impressive\", \"include\", \"include\", \"include\", \"include\", \"include\", \"increase\", \"increase\", \"indeed\", \"individual\", \"individual\", \"industry\", \"industry\", \"industry\", \"info\", \"information\", \"information\", \"information\", \"informed\", \"inhabitant\", \"input\", \"ins_cwru\", \"insert\", \"instal\", \"interface\", \"interface\", \"internet\", \"introduce\", \"investment\", \"invite\", \"iran\", \"islam\", \"islamic\", \"israel\", \"israeli\", \"issue\", \"issue\", \"issue\", \"issue\", \"jew\", \"jewish\", \"joseph\", \"journal\", \"judaism\", \"ken\", \"ken\", \"kenneth\", \"kevin\", \"key\", \"kill\", \"kill\", \"kill\", \"kit\", \"km\", \"know\", \"know\", \"knowledge\", \"kurd\", \"lance\", \"land\", \"land\", \"las_cruce\", \"last\", \"last\", \"last\", \"last\", \"launch\", \"law\", \"law\", \"legal\", \"legitimate\", \"letter\", \"library\", \"license\", \"license\", \"lie\", \"life\", \"life\", \"life\", \"light\", \"line\", \"line\", \"line\", \"live\", \"live\", \"live\", \"location\", \"log\", \"logic\", \"longer_exist\", \"look\", \"look\", \"lord\", \"lose\", \"lose\", \"lose\", \"lot\", \"lunar\", \"m\", \"m\", \"mac\", \"mac\", \"machine\", \"mail\", \"mailing_list\", \"make\", \"make\", \"make\", \"man\", \"man\", \"man\", \"man\", \"manager\", \"many\", \"many\", \"many\", \"many\", \"mar\", \"massacre\", \"master\", \"mate\", \"max\", \"maybe\", \"mb\", \"mb_burst\", \"md\", \"mean\", \"mean\", \"mean\", \"meaning\", \"medical\", \"medicine\", \"medium\", \"meeting\", \"melkonian\", \"member\", \"memory\", \"message\", \"message\", \"message\", \"message\", \"mhz\", \"michael\", \"might_serve\", \"mike\", \"mile\", \"military\", \"military\", \"minimal\", \"minnesota\", \"miss\", \"miss\", \"mission\", \"mix\", \"mo\", \"mode\", \"mode\", \"model\", \"modem\", \"money\", \"moon\", \"moslem\", \"motherboard\", \"motif\", \"motorola\", \"mountain_passe\", \"mouse\", \"mr\", \"mr\", \"ms_window\", \"mu\", \"much\", \"much\", \"multiple\", \"murder\", \"murder\", \"muslim\", \"muslim\", \"n\", \"nasa\", \"national\", \"national\", \"national\", \"national\", \"national\", \"nature\", \"nazi\", \"nazi\", \"need\", \"need\", \"need\", \"netcom\", \"newspaper\", \"next\", \"next\", \"nhl\", \"nice\", \"nntp_poste\", \"nntp_poste\", \"normal\", \"notice\", \"ns_simms\", \"nsa\", \"nuclear\", \"nuclear\", \"observation\", \"obtain\", \"obtain\", \"occupation\", \"occupy\", \"office\", \"office\", \"officer\", \"oil\", \"orbit\", \"organization\", \"organization\", \"organization\", \"owner\", \"owner\", \"ozone\", \"pa\", \"package\", \"page\", \"page\", \"paint\", \"panel\", \"paper\", \"parameter\", \"particularly\", \"partner\", \"patient\", \"paul\", \"pc\", \"pc\", \"peace\", \"pen\", \"penalty\", \"people\", \"people\", \"people\", \"percent\", \"peripheral\", \"peter\", \"pgp\", \"phone\", \"phone\", \"phone\", \"physical\", \"pin\", \"plane\", \"planet\", \"planetary\", \"platform\", \"play\", \"player\", \"please_respond\", \"plot\", \"point\", \"point\", \"point\", \"police\", \"policy\", \"policy\", \"pop\", \"port\", \"positively\", \"possibly\", \"possibly\", \"pp\", \"preach\", \"president\", \"pretty\", \"previously\", \"price\", \"primary\", \"prior\", \"privacy\", \"private\", \"private\", \"prize\", \"probably\", \"probe\", \"problem\", \"problem\", \"problem\", \"proceed\", \"proceed\", \"processor\", \"program\", \"program\", \"programmer\", \"prohibit\", \"project\", \"project\", \"project\", \"proof\", \"prove\", \"prove\", \"pub\", \"public\", \"public\", \"public\", \"publication\", \"publish\", \"put\", \"put\", \"quadra\", \"qualified\", \"question\", \"question\", \"question\", \"radiation\", \"radio\", \"radio\", \"radio\", \"radio\", \"radius\", \"rate\", \"rate\", \"re\", \"reality\", \"really\", \"really\", \"reason\", \"reason\", \"reason\", \"receiver\", \"recommendation\", \"refer\", \"reflect\", \"register\", \"regularly\", \"regulation\", \"related\", \"relation\", \"religion\", \"remainder\", \"remember\", \"remind\", \"replace\", \"replace\", \"reply\", \"reply\", \"reply\", \"reply\", \"report\", \"report\", \"republic\", \"require\", \"require\", \"require\", \"require\", \"require\", \"require\", \"research\", \"research\", \"research\", \"research\", \"resource\", \"responce\", \"restriction\", \"revelation\", \"review\", \"richard\", \"richardson_tx\", \"ride\", \"rider\", \"right\", \"right\", \"road\", \"road\", \"road\", \"road\", \"rocket\", \"rocket\", \"roger\", \"role\", \"rom\", \"ron\", \"route\", \"rs\", \"rsa\", \"rude\", \"rule\", \"rule\", \"run\", \"run\", \"run\", \"russia\", \"russian\", \"russian\", \"russian\", \"s\", \"safety\", \"safety\", \"sale\", \"sam\", \"satellite\", \"saturday\", \"say\", \"say\", \"say\", \"scan\", \"scare\", \"scheme\", \"school\", \"sci\", \"science\", \"science\", \"scientific\", \"scope\", \"score\", \"scott\", \"screen\", \"scsi\", \"scsi_controller\", \"season\", \"seattle_wa\", \"secret\", \"section\", \"section\", \"secure\", \"security\", \"security\", \"see\", \"see\", \"self\", \"sell\", \"send\", \"send\", \"send\", \"send\", \"send\", \"sense\", \"sentence\", \"sentence\", \"serdar_argic\", \"series\", \"serve\", \"server\", \"service\", \"service\", \"services_gu\", \"set\", \"set\", \"set\", \"set\", \"sez\", \"sgi\", \"shoot\", \"shoot\", \"shuttle\", \"significant\", \"situation\", \"situation\", \"sky\", \"slaughter\", \"smartdrv\", \"soft\", \"software\", \"solar\", \"soldier\", \"soldier\", \"solid\", \"son\", \"soul\", \"sound\", \"source\", \"source\", \"source\", \"source\", \"source\", \"soviet\", \"space\", \"space_dig\", \"space_station\", \"spacecraft\", \"speak\", \"speak\", \"speaker\", \"special\", \"special\", \"special\", \"specify\", \"speed\", \"speed\", \"speed\", \"stable\", \"stall\", \"star\", \"state\", \"state\", \"statistic\", \"steal\", \"steal\", \"stream\", \"strip\", \"study\", \"study\", \"stuff\", \"subscription\", \"suck\", \"sufficient\", \"suggest\", \"suitable\", \"sun\", \"sun\", \"support\", \"support\", \"sure\", \"sure\", \"surface\", \"surface\", \"surface\", \"survivor\", \"synchronous\", \"sys\", \"system\", \"system\", \"system\", \"system\", \"system\", \"take\", \"take\", \"take\", \"tap\", \"tape\", \"task\", \"tax\", \"team\", \"technology\", \"technology\", \"technology\", \"technology\", \"tel\", \"television\", \"terrorism\", \"test\", \"test\", \"texas\", \"thank\", \"thank\", \"therefore\", \"thick\", \"thing\", \"thing\", \"think\", \"think\", \"threat\", \"thumb\", \"thus\", \"tight\", \"time\", \"time\", \"time\", \"time\", \"tip\", \"tom_mcwilliam\", \"track\", \"trade\", \"treatment\", \"trial\", \"trivial\", \"troop\", \"troop\", \"true\", \"true\", \"true\", \"true\", \"trust\", \"trust\", \"truth\", \"try\", \"try\", \"try\", \"turk\", \"turkey\", \"turkish\", \"turn\", \"uk\", \"united_state\", \"univ\", \"university\", \"university\", \"university\", \"university\", \"university\", \"unix\", \"unknown\", \"use\", \"use\", \"use\", \"use\", \"use\", \"user\", \"user\", \"van\", \"variable\", \"variation\", \"ve\", \"vehicle\", \"vehicle\", \"version\", \"video\", \"village\", \"virginia\", \"voltage\", \"vote\", \"want\", \"want\", \"want\", \"want\", \"war\", \"war\", \"warrant\", \"warranty\", \"wave\", \"way\", \"way\", \"way\", \"way\", \"weapon\", \"weight\", \"well\", \"well\", \"well\", \"well\", \"whole\", \"wide\", \"wide\", \"wide\", \"win\", \"window\", \"wing\", \"winter\", \"woman\", \"woman\", \"wonder\", \"word\", \"word\", \"work\", \"work\", \"work\", \"workstation\", \"world\", \"world\", \"world\", \"world\", \"write\", \"write\", \"wwii\", \"wwii\", \"year\", \"year\", \"year\", \"year\", \"zone\"]}, \"R\": 30, \"lambda.step\": 0.01, \"plot.opts\": {\"xlab\": \"PC1\", \"ylab\": \"PC2\"}, \"topic.order\": [16, 15, 10, 4, 1, 9, 8, 2, 14, 17, 6, 7, 3, 13, 19, 18, 20, 11, 12, 5]};\n",
       "\n",
       "function LDAvis_load_lib(url, callback){\n",
       "  var s = document.createElement('script');\n",
       "  s.src = url;\n",
       "  s.async = true;\n",
       "  s.onreadystatechange = s.onload = callback;\n",
       "  s.onerror = function(){console.warn(\"failed to load library \" + url);};\n",
       "  document.getElementsByTagName(\"head\")[0].appendChild(s);\n",
       "}\n",
       "\n",
       "if(typeof(LDAvis) !== \"undefined\"){\n",
       "   // already loaded: just create the visualization\n",
       "   !function(LDAvis){\n",
       "       new LDAvis(\"#\" + \"ldavis_el1652418987926628489188503950\", ldavis_el1652418987926628489188503950_data);\n",
       "   }(LDAvis);\n",
       "}else if(typeof define === \"function\" && define.amd){\n",
       "   // require.js is available: use it to load d3/LDAvis\n",
       "   require.config({paths: {d3: \"https://d3js.org/d3.v5\"}});\n",
       "   require([\"d3\"], function(d3){\n",
       "      window.d3 = d3;\n",
       "      LDAvis_load_lib(\"https://cdn.jsdelivr.net/gh/bmabey/pyLDAvis@3.3.1/pyLDAvis/js/ldavis.v3.0.0.js\", function(){\n",
       "        new LDAvis(\"#\" + \"ldavis_el1652418987926628489188503950\", ldavis_el1652418987926628489188503950_data);\n",
       "      });\n",
       "    });\n",
       "}else{\n",
       "    // require.js not available: dynamically load d3 & LDAvis\n",
       "    LDAvis_load_lib(\"https://d3js.org/d3.v5.js\", function(){\n",
       "         LDAvis_load_lib(\"https://cdn.jsdelivr.net/gh/bmabey/pyLDAvis@3.3.1/pyLDAvis/js/ldavis.v3.0.0.js\", function(){\n",
       "                 new LDAvis(\"#\" + \"ldavis_el1652418987926628489188503950\", ldavis_el1652418987926628489188503950_data);\n",
       "            })\n",
       "         });\n",
       "}\n",
       "</script>"
      ],
      "text/plain": [
       "PreparedData(topic_coordinates=              x         y  topics  cluster       Freq\n",
       "topic                                                \n",
       "15     0.380167 -0.052326       1        1  37.351563\n",
       "14     0.279699  0.249992       2        1  12.685894\n",
       "9      0.336398 -0.074591       3        1  12.190935\n",
       "3      0.293085 -0.097040       4        1  10.964722\n",
       "0     -0.013394 -0.106262       5        1   5.634468\n",
       "8      0.118515 -0.194212       6        1   4.908728\n",
       "7      0.018015 -0.000434       7        1   2.556369\n",
       "1      0.040144  0.258105       8        1   2.434880\n",
       "13    -0.027191  0.031675       9        1   2.264110\n",
       "16    -0.023798  0.090097      10        1   1.608811\n",
       "5     -0.077521 -0.007964      11        1   1.493661\n",
       "6     -0.079448  0.052072      12        1   1.442047\n",
       "2     -0.121769 -0.009079      13        1   1.067878\n",
       "12    -0.102766 -0.060045      14        1   0.968420\n",
       "18    -0.153508 -0.028789      15        1   0.729622\n",
       "17    -0.142568 -0.028608      16        1   0.693582\n",
       "19    -0.148915  0.028711      17        1   0.490831\n",
       "10    -0.178939 -0.020382      18        1   0.341384\n",
       "11    -0.195851 -0.016019      19        1   0.120475\n",
       "4     -0.200355 -0.014900      20        1   0.051620, topic_info=               Term          Freq         Total Category  logprob  loglift\n",
       "5421             ax  50760.000000  50760.000000  Default  30.0000  30.0000\n",
       "1086              _   8392.000000   8392.000000  Default  29.0000  29.0000\n",
       "26     organization  17488.000000  17488.000000  Default  28.0000  28.0000\n",
       "18             line  19144.000000  19144.000000  Default  27.0000  27.0000\n",
       "421           drive   2476.000000   2476.000000  Default  26.0000  26.0000\n",
       "...             ...           ...           ...      ...      ...      ...\n",
       "5208       familiar      0.010147      1.266583  Topic20 -11.2648   2.7421\n",
       "11901             p      0.010147      1.266578  Topic20 -11.2648   2.7421\n",
       "4497           loss      0.010147      1.266617  Topic20 -11.2648   2.7421\n",
       "9087           phil      0.010147      1.266601  Topic20 -11.2648   2.7421\n",
       "4711        capable      0.010147      1.266619  Topic20 -11.2648   2.7421\n",
       "\n",
       "[857 rows x 6 columns], token_table=      Topic      Freq         Term\n",
       "term                              \n",
       "1086      5  0.999819            _\n",
       "406      19  0.905015       absurd\n",
       "1588      3  0.998570       accept\n",
       "1308     17  0.974783  acquisition\n",
       "2073      3  0.017431       action\n",
       "...     ...       ...          ...\n",
       "45        1  0.372850         year\n",
       "45        4  0.185013         year\n",
       "45        6  0.430443         year\n",
       "45        7  0.011669         year\n",
       "2607     18  0.994252         zone\n",
       "\n",
       "[1041 rows x 3 columns], R=30, lambda_step=0.01, plot_opts={'xlab': 'PC1', 'ylab': 'PC2'}, topic_order=[16, 15, 10, 4, 1, 9, 8, 2, 14, 17, 6, 7, 3, 13, 19, 18, 20, 11, 12, 5])"
      ]
     },
     "execution_count": 23,
     "metadata": {},
     "output_type": "execute_result"
    }
   ],
   "source": [
    "# Visualize the topics\n",
    "pyLDAvis.enable_notebook()\n",
    "vis = pyLDAvis.gensim_models.prepare(lda_model, corpus, id2word)\n",
    "vis"
   ]
  },
  {
   "cell_type": "markdown",
   "metadata": {},
   "source": [
    "### Each bubble on the left-hand side plot represents a topic. The larger the bubble, the more prevalent is that topic.\n",
    "### A good topic model will have fairly big, non-overlapping bubbles scattered throughout the chart instead of being clustered in one quadrant.\n",
    "### A model with too many topics, will typically have many overlaps, small sized bubbles clustered in one region of the chart.\n",
    "### Move the cursor over one of the bubbles, the words and bars on the right-hand side will update. These words are the salient keywords that form the selected topic.\n",
    "### We have successfully built a good looking topic model."
   ]
  },
  {
   "cell_type": "code",
   "execution_count": null,
   "metadata": {},
   "outputs": [],
   "source": []
  }
 ],
 "metadata": {
  "kernelspec": {
   "display_name": "Python 3",
   "language": "python",
   "name": "python3"
  },
  "language_info": {
   "codemirror_mode": {
    "name": "ipython",
    "version": 3
   },
   "file_extension": ".py",
   "mimetype": "text/x-python",
   "name": "python",
   "nbconvert_exporter": "python",
   "pygments_lexer": "ipython3",
   "version": "3.8.5"
  }
 },
 "nbformat": 4,
 "nbformat_minor": 4
}
